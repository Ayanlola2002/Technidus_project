{
  "nbformat": 4,
  "nbformat_minor": 0,
  "metadata": {
    "kernelspec": {
      "display_name": "Python 3",
      "language": "python",
      "name": "python3"
    },
    "language_info": {
      "codemirror_mode": {
        "name": "ipython",
        "version": 3
      },
      "file_extension": ".py",
      "mimetype": "text/x-python",
      "name": "python",
      "nbconvert_exporter": "python",
      "pygments_lexer": "ipython3",
      "version": "3.7.1"
    },
    "colab": {
      "name": "ProjectWebscraping.ipynb",
      "provenance": [],
      "include_colab_link": true
    }
  },
  "cells": [
    {
      "cell_type": "markdown",
      "metadata": {
        "id": "view-in-github",
        "colab_type": "text"
      },
      "source": [
        "<a href=\"https://colab.research.google.com/github/Ayanlola2002/Technidus_project/blob/master/ProjectWebscraping.ipynb\" target=\"_parent\"><img src=\"https://colab.research.google.com/assets/colab-badge.svg\" alt=\"Open In Colab\"/></a>"
      ]
    },
    {
      "cell_type": "markdown",
      "metadata": {
        "id": "qzemvf-YlRtB"
      },
      "source": [
        "### Web Scraping"
      ]
    },
    {
      "cell_type": "markdown",
      "metadata": {
        "id": "r0zmq0sGlRtE"
      },
      "source": [
        "####  Propertypro is more flexible in terms of legal right as seen in the terms and conditions page.   \n",
        "\n",
        "#### https://www.propertypro.ng/terms\n",
        "#### https://nigeriapropertycentre.com/terms-of-use "
      ]
    },
    {
      "cell_type": "markdown",
      "metadata": {
        "id": "Y691Nov7lRtG"
      },
      "source": [
        "."
      ]
    },
    {
      "cell_type": "markdown",
      "metadata": {
        "id": "w0gbQZSklRtH"
      },
      "source": [
        "#### Import Beautiful Soup for scraping, \n",
        "####requests for making request to a website and \n",
        "#### re for regular expressions"
      ]
    },
    {
      "cell_type": "code",
      "metadata": {
        "id": "Q_zCU5XolRtI"
      },
      "source": [
        "import requests, re\n",
        "from bs4 import BeautifulSoup"
      ],
      "execution_count": null,
      "outputs": []
    },
    {
      "cell_type": "markdown",
      "metadata": {
        "id": "5B1tcnkElRtQ"
      },
      "source": [
        "#### Making a request to the website and extract its content (page source)"
      ]
    },
    {
      "cell_type": "code",
      "metadata": {
        "id": "OjZGXXh5lRtR"
      },
      "source": [
        "r=requests.get(\"https://www.propertypro.ng/property-for-rent?search=gbagada\")\n",
        "c=r.content"
      ],
      "execution_count": null,
      "outputs": []
    },
    {
      "cell_type": "markdown",
      "metadata": {
        "id": "mNOim4IqlRtV"
      },
      "source": [
        "#### Parsing page source using the Beautiful soup HTML parser\n",
        "#### Find all property features on the page.\n",
        "#### I did this by first expecting the web page"
      ]
    },
    {
      "cell_type": "code",
      "metadata": {
        "id": "1Of1xvijlRtW"
      },
      "source": [
        "#beautifulsoup object\n",
        "soup=BeautifulSoup(c,\"html.parser\")\n",
        "\n",
        "real=soup.find_all(\"div\",{\"class\":\"prop-features\"})"
      ],
      "execution_count": null,
      "outputs": []
    },
    {
      "cell_type": "code",
      "metadata": {
        "id": "zcctiuyTlRtc",
        "outputId": "e3050125-82e5-4130-e844-6217d22036e4",
        "colab": {
          "base_uri": "https://localhost:8080/",
          "height": 34
        }
      },
      "source": [
        "#checking features to remove\n",
        "real[0].get_text().strip().split()"
      ],
      "execution_count": null,
      "outputs": [
        {
          "output_type": "execute_result",
          "data": {
            "text/plain": [
              "['4', 'bed', '4', 'bath', '5', 'toilet']"
            ]
          },
          "metadata": {
            "tags": []
          },
          "execution_count": 4
        }
      ]
    },
    {
      "cell_type": "code",
      "metadata": {
        "id": "Yu8r0MNylRtk",
        "outputId": "1aad2857-92ba-4c4a-c2bd-7399437b1631",
        "colab": {
          "base_uri": "https://localhost:8080/",
          "height": 34
        }
      },
      "source": [
        "re.findall(\"..bath\",real[0].get_text().strip())#[0][0]"
      ],
      "execution_count": null,
      "outputs": [
        {
          "output_type": "execute_result",
          "data": {
            "text/plain": [
              "['4 bath']"
            ]
          },
          "metadata": {
            "tags": []
          },
          "execution_count": 5
        }
      ]
    },
    {
      "cell_type": "markdown",
      "metadata": {
        "id": "Y3i7oQ3VlRtq"
      },
      "source": [
        "#### changing div and class below to search for something else. "
      ]
    },
    {
      "cell_type": "code",
      "metadata": {
        "id": "Na1fwAgKlRtr"
      },
      "source": [
        "real=soup.find_all(\"div\",{\"class\":\"prop-features\"})"
      ],
      "execution_count": null,
      "outputs": []
    },
    {
      "cell_type": "code",
      "metadata": {
        "id": "Tal7dRe4lRt1"
      },
      "source": [
        "#https://www.propertypro.ng/property-for-rent?search=gbagada&page=1"
      ],
      "execution_count": null,
      "outputs": []
    },
    {
      "cell_type": "code",
      "metadata": {
        "id": "LoxTyodtlRt6",
        "outputId": "b23aae6e-4f55-4359-9aa8-70e90e871523",
        "colab": {
          "base_uri": "https://localhost:8080/",
          "height": 34
        }
      },
      "source": [
        "#trying to establish page number\n",
        "items = int(re.findall(\"\\d+\",soup.find_all(\"div\",{\"class\":\"jumbotron m-hide\"})[0].text.split(\"total of\")[1][:6].replace(\",\",\"\").strip())[0])\n",
        "listings = 20\n",
        "page_nr = int(items/listings)\n",
        "page_nr"
      ],
      "execution_count": null,
      "outputs": [
        {
          "output_type": "execute_result",
          "data": {
            "text/plain": [
              "33"
            ]
          },
          "metadata": {
            "tags": []
          },
          "execution_count": 8
        }
      ]
    },
    {
      "cell_type": "code",
      "metadata": {
        "id": "e54y9ldplRuH"
      },
      "source": [
        "#WebScrape Code\n",
        "l=[]\n",
        "location = [\"gbagada\",\"ikeja\",\"surulere\",\"ikeja\",\"ogba\",\"iyana ipaja\",\"lekki\",\"ajah\",\"ikorodu\"]\n",
        "\n",
        "\n",
        "for place in location:\n",
        "    base_url=\"https://www.propertypro.ng/property-for-rent?search=\"+place+ \"&auto=&type=&bedroom=&max_price=\"\n",
        "    r=requests.get(base_url+\".html\")\n",
        "    c=r.content\n",
        "    soup=BeautifulSoup(c,\"html.parser\")\n",
        "\n",
        "    items = int(re.findall(\"\\d+\",soup.find_all(\"div\",{\"class\":\"jumbotron m-hide\"})[0].text.split(\"total of\")[1][:6].replace(\",\",\"\").strip())[0])\n",
        "    listings = 20 #This can be edited back to 20 items as stated on site. However your code will take a while to run\n",
        "    page_nr = int(items/listings)\n",
        "    \n",
        "    #base_url=\"https://www.propertypro.ng/property-for-rent?search=\"+place+ \"&auto=&type=&bedroom=&max_price=\"\n",
        "    for page in range(1,int(page_nr),1):\n",
        "\n",
        "        r=requests.get(base_url+\".html\"+\"&page=\"+str(page))\n",
        "        c=r.content\n",
        "\n",
        "        soup=BeautifulSoup(c,\"html.parser\")\n",
        "        \n",
        "        classes = [\"col-lg-6 col-md-6 col-sm-6 col-xs-12 prop-meta-data\",\"col-lg-8 col-md-8 col-sm-7 col-xs-12 prop-meta-data text-left\",\n",
        "                   \"col-lg-9 col-md-9 col-sm-12 col-xs-12 main-listing-cont\"]\n",
        "        for class_ in classes:\n",
        "            real=soup.find_all(\"div\",{\"class\":class_})\n",
        "\n",
        "            for i in list(range(0,len(real))):\n",
        "                d={}\n",
        "                d['page']= page\n",
        "                try:\n",
        "                    d[\"location\"] = real[i].find(\"h3\",{\"class\":\"pro-location\"}).text.strip()\n",
        "                except (IndexError,TypeError,AttributeError):\n",
        "                    d[\"location\"] = None\n",
        "                try:\n",
        "                    d[\"specific_location\"] = real[i].find(\"h3\",{\"class\":\"pro-location\"}).text.strip().split(\"gbagada\")[0].replace(\"-\",\"\").strip()\n",
        "                except(IndexError,TypeError,AttributeError):\n",
        "                    d['specific_location'] = None\n",
        "                try:\n",
        "                    d[\"features\"]=real[i].find(\"span\",{\"class\":\"prop-aminities float-left\"}).text.strip()  \n",
        "                except (AttributeError,IndexError) as e:\n",
        "                    d[\"features\"]= None\n",
        "                try:\n",
        "                    d[\"bedrooms\"]= re.findall(\"..bed\",real[i].find(\"span\",{\"class\":\"prop-aminities float-left\"}).text.strip())[0][0]\n",
        "                except (IndexError,TypeError,AttributeError) as e:\n",
        "                    d[\"bedrooms\"]= None \n",
        "                try:\n",
        "                    d[\"bathrooms\"]= re.findall(\"..bath\",real[i].find(\"span\",{\"class\":\"prop-aminities float-left\"}).text.strip())[0][0]\n",
        "                except (IndexError,TypeError,AttributeError) as e:\n",
        "                    d[\"bathrooms\"]= None\n",
        "                try:\n",
        "                    d[\"toilets\"]= re.findall(\"..toilet\",real[i].find(\"span\",{\"class\":\"prop-aminities float-left\"}).text.strip())[0][0]\n",
        "                except (IndexError,TypeError,AttributeError) as e:\n",
        "                    d[\"toilets\"]=None\n",
        "                try:\n",
        "                    d[\"description\"]=real[i].find(\"p\",{\"class\":\"pro-description\"}).text.strip()\n",
        "                except (IndexError,TypeError,AttributeError) as e:\n",
        "                    d[\"description\"]= None\n",
        "                try:\n",
        "                    d[\"other_description\"]=real[i].find(\"p\",{\"class\":\"pro-description readmore\"}).text.strip()\n",
        "                except (IndexError,TypeError,AttributeError) as e:\n",
        "                    d[\"other_description\"]= None     \n",
        "                \n",
        "                try:\n",
        "                    d[\"price\"]=real[i].find(\"p\",{\"class\":\"prop-price\"}).text.strip().replace(\"₦\",\"\").replace(\",\",\"\")\n",
        "                except (IndexError,TypeError,AttributeError) as e:\n",
        "                    d[\"price\"] = None\n",
        "                l.append(d)\n",
        "                #print(l)\n",
        "                #print(\" \""
      ],
      "execution_count": null,
      "outputs": []
    },
    {
      "cell_type": "markdown",
      "metadata": {
        "id": "NAHQ_ApTlRuL"
      },
      "source": [
        "#### Convert output to dataframe"
      ]
    },
    {
      "cell_type": "code",
      "metadata": {
        "id": "4xZY_XcelRuM",
        "outputId": "2c118ca3-bd12-4dcf-9e16-ad0f330d7406",
        "colab": {
          "base_uri": "https://localhost:8080/",
          "height": 796
        }
      },
      "source": [
        "import pandas as pd\n",
        "ld = pd.DataFrame(l)\n",
        "ld"
      ],
      "execution_count": null,
      "outputs": [
        {
          "output_type": "execute_result",
          "data": {
            "text/html": [
              "<div>\n",
              "<style scoped>\n",
              "    .dataframe tbody tr th:only-of-type {\n",
              "        vertical-align: middle;\n",
              "    }\n",
              "\n",
              "    .dataframe tbody tr th {\n",
              "        vertical-align: top;\n",
              "    }\n",
              "\n",
              "    .dataframe thead th {\n",
              "        text-align: right;\n",
              "    }\n",
              "</style>\n",
              "<table border=\"1\" class=\"dataframe\">\n",
              "  <thead>\n",
              "    <tr style=\"text-align: right;\">\n",
              "      <th></th>\n",
              "      <th>page</th>\n",
              "      <th>location</th>\n",
              "      <th>specific_location</th>\n",
              "      <th>features</th>\n",
              "      <th>bedrooms</th>\n",
              "      <th>bathrooms</th>\n",
              "      <th>toilets</th>\n",
              "      <th>description</th>\n",
              "      <th>other_description</th>\n",
              "      <th>price</th>\n",
              "    </tr>\n",
              "  </thead>\n",
              "  <tbody>\n",
              "    <tr>\n",
              "      <th>0</th>\n",
              "      <td>1</td>\n",
              "      <td>ifako gbagada gbagada lagos</td>\n",
              "      <td>ifako</td>\n",
              "      <td>2 bed 2 bath 2 toilet</td>\n",
              "      <td>2</td>\n",
              "      <td>2</td>\n",
              "      <td>2</td>\n",
              "      <td>Decent 2 bedrooms ground flat in a block of 4,...</td>\n",
              "      <td>Decent 2 bedrooms ground flat in a block of 4,...</td>\n",
              "      <td>800000</td>\n",
              "    </tr>\n",
              "    <tr>\n",
              "      <th>1</th>\n",
              "      <td>1</td>\n",
              "      <td>ifako ifako gbagada gbagada lagos</td>\n",
              "      <td>ifako ifako</td>\n",
              "      <td>2 bed 2 bath 3 toilet</td>\n",
              "      <td>2</td>\n",
              "      <td>2</td>\n",
              "      <td>3</td>\n",
              "      <td>2 bedroom apartment in a block of 4, upstairs ...</td>\n",
              "      <td>2 bedroom apartment in a block of 4, upstairs ...</td>\n",
              "      <td>1000000</td>\n",
              "    </tr>\n",
              "    <tr>\n",
              "      <th>2</th>\n",
              "      <td>1</td>\n",
              "      <td>millenuim ups gbagada lagos</td>\n",
              "      <td>millenuim ups</td>\n",
              "      <td>3 bed 3 bath 4 toilet</td>\n",
              "      <td>3</td>\n",
              "      <td>3</td>\n",
              "      <td>4</td>\n",
              "      <td>two tenants in the compound ... Security. Park...</td>\n",
              "      <td>two tenants in the compound ... Security. Park...</td>\n",
              "      <td>1800000</td>\n",
              "    </tr>\n",
              "    <tr>\n",
              "      <th>3</th>\n",
              "      <td>1</td>\n",
              "      <td>pedro-gbagada area gbagada lagos</td>\n",
              "      <td>pedro</td>\n",
              "      <td>2 bed 2 bath 3 toilet</td>\n",
              "      <td>2</td>\n",
              "      <td>2</td>\n",
              "      <td>3</td>\n",
              "      <td>Serviced 2 Bedroom all rooms en-suite flat wit...</td>\n",
              "      <td>Serviced 2 Bedroom all rooms en-suite flat wit...</td>\n",
              "      <td>1300000</td>\n",
              "    </tr>\n",
              "    <tr>\n",
              "      <th>4</th>\n",
              "      <td>1</td>\n",
              "      <td>back of mobil filling station by domino soluyi...</td>\n",
              "      <td>back of mobil filling station by domino soluyi</td>\n",
              "      <td>3 bed 3 bath 3 toilet</td>\n",
              "      <td>3</td>\n",
              "      <td>3</td>\n",
              "      <td>3</td>\n",
              "      <td>Very Decent 3brm Flat with 3t, 3b, 2 rooms are...</td>\n",
              "      <td>Very Decent 3brm Flat with 3t, 3b, 2 rooms are...</td>\n",
              "      <td>900000</td>\n",
              "    </tr>\n",
              "    <tr>\n",
              "      <th>...</th>\n",
              "      <td>...</td>\n",
              "      <td>...</td>\n",
              "      <td>...</td>\n",
              "      <td>...</td>\n",
              "      <td>...</td>\n",
              "      <td>...</td>\n",
              "      <td>...</td>\n",
              "      <td>...</td>\n",
              "      <td>...</td>\n",
              "      <td>...</td>\n",
              "    </tr>\n",
              "    <tr>\n",
              "      <th>5146</th>\n",
              "      <td>11</td>\n",
              "      <td>None</td>\n",
              "      <td>None</td>\n",
              "      <td>None</td>\n",
              "      <td>None</td>\n",
              "      <td>None</td>\n",
              "      <td>None</td>\n",
              "      <td>None</td>\n",
              "      <td>None</td>\n",
              "      <td>None</td>\n",
              "    </tr>\n",
              "    <tr>\n",
              "      <th>5147</th>\n",
              "      <td>12</td>\n",
              "      <td>None</td>\n",
              "      <td>None</td>\n",
              "      <td>None</td>\n",
              "      <td>None</td>\n",
              "      <td>None</td>\n",
              "      <td>None</td>\n",
              "      <td>None</td>\n",
              "      <td>None</td>\n",
              "      <td>None</td>\n",
              "    </tr>\n",
              "    <tr>\n",
              "      <th>5148</th>\n",
              "      <td>13</td>\n",
              "      <td>None</td>\n",
              "      <td>None</td>\n",
              "      <td>None</td>\n",
              "      <td>None</td>\n",
              "      <td>None</td>\n",
              "      <td>None</td>\n",
              "      <td>None</td>\n",
              "      <td>None</td>\n",
              "      <td>None</td>\n",
              "    </tr>\n",
              "    <tr>\n",
              "      <th>5149</th>\n",
              "      <td>14</td>\n",
              "      <td>None</td>\n",
              "      <td>None</td>\n",
              "      <td>None</td>\n",
              "      <td>None</td>\n",
              "      <td>None</td>\n",
              "      <td>None</td>\n",
              "      <td>None</td>\n",
              "      <td>None</td>\n",
              "      <td>None</td>\n",
              "    </tr>\n",
              "    <tr>\n",
              "      <th>5150</th>\n",
              "      <td>15</td>\n",
              "      <td>None</td>\n",
              "      <td>None</td>\n",
              "      <td>None</td>\n",
              "      <td>None</td>\n",
              "      <td>None</td>\n",
              "      <td>None</td>\n",
              "      <td>None</td>\n",
              "      <td>None</td>\n",
              "      <td>None</td>\n",
              "    </tr>\n",
              "  </tbody>\n",
              "</table>\n",
              "<p>5151 rows × 10 columns</p>\n",
              "</div>"
            ],
            "text/plain": [
              "      page  ...     price\n",
              "0        1  ...    800000\n",
              "1        1  ...   1000000\n",
              "2        1  ...   1800000\n",
              "3        1  ...   1300000\n",
              "4        1  ...    900000\n",
              "...    ...  ...       ...\n",
              "5146    11  ...      None\n",
              "5147    12  ...      None\n",
              "5148    13  ...      None\n",
              "5149    14  ...      None\n",
              "5150    15  ...      None\n",
              "\n",
              "[5151 rows x 10 columns]"
            ]
          },
          "metadata": {
            "tags": []
          },
          "execution_count": 10
        }
      ]
    },
    {
      "cell_type": "code",
      "metadata": {
        "id": "UC6Ayxbsp8mH"
      },
      "source": [
        "scrapedata=ld.to_csv(\"data1.csv\",index=False)"
      ],
      "execution_count": null,
      "outputs": []
    },
    {
      "cell_type": "code",
      "metadata": {
        "id": "TWDtHIGQq9rn",
        "outputId": "c61a6e10-5359-4b5b-fdf6-9ad61c561793",
        "colab": {
          "base_uri": "https://localhost:8080/",
          "height": 1000
        }
      },
      "source": [
        "#data check\n",
        "ld.head(10)"
      ],
      "execution_count": null,
      "outputs": [
        {
          "output_type": "execute_result",
          "data": {
            "text/html": [
              "<div>\n",
              "<style scoped>\n",
              "    .dataframe tbody tr th:only-of-type {\n",
              "        vertical-align: middle;\n",
              "    }\n",
              "\n",
              "    .dataframe tbody tr th {\n",
              "        vertical-align: top;\n",
              "    }\n",
              "\n",
              "    .dataframe thead th {\n",
              "        text-align: right;\n",
              "    }\n",
              "</style>\n",
              "<table border=\"1\" class=\"dataframe\">\n",
              "  <thead>\n",
              "    <tr style=\"text-align: right;\">\n",
              "      <th></th>\n",
              "      <th>page</th>\n",
              "      <th>location</th>\n",
              "      <th>specific_location</th>\n",
              "      <th>features</th>\n",
              "      <th>bedrooms</th>\n",
              "      <th>bathrooms</th>\n",
              "      <th>toilets</th>\n",
              "      <th>description</th>\n",
              "      <th>other_description</th>\n",
              "      <th>price</th>\n",
              "    </tr>\n",
              "  </thead>\n",
              "  <tbody>\n",
              "    <tr>\n",
              "      <th>0</th>\n",
              "      <td>1</td>\n",
              "      <td>ifako gbagada gbagada lagos</td>\n",
              "      <td>ifako</td>\n",
              "      <td>2 bed 2 bath 2 toilet</td>\n",
              "      <td>2</td>\n",
              "      <td>2</td>\n",
              "      <td>2</td>\n",
              "      <td>Decent 2 bedrooms ground flat in a block of 4,...</td>\n",
              "      <td>Decent 2 bedrooms ground flat in a block of 4,...</td>\n",
              "      <td>800000</td>\n",
              "    </tr>\n",
              "    <tr>\n",
              "      <th>1</th>\n",
              "      <td>1</td>\n",
              "      <td>ifako ifako gbagada gbagada lagos</td>\n",
              "      <td>ifako ifako</td>\n",
              "      <td>2 bed 2 bath 3 toilet</td>\n",
              "      <td>2</td>\n",
              "      <td>2</td>\n",
              "      <td>3</td>\n",
              "      <td>2 bedroom apartment in a block of 4, upstairs ...</td>\n",
              "      <td>2 bedroom apartment in a block of 4, upstairs ...</td>\n",
              "      <td>1000000</td>\n",
              "    </tr>\n",
              "    <tr>\n",
              "      <th>2</th>\n",
              "      <td>1</td>\n",
              "      <td>millenuim ups gbagada lagos</td>\n",
              "      <td>millenuim ups</td>\n",
              "      <td>3 bed 3 bath 4 toilet</td>\n",
              "      <td>3</td>\n",
              "      <td>3</td>\n",
              "      <td>4</td>\n",
              "      <td>two tenants in the compound ... Security. Park...</td>\n",
              "      <td>two tenants in the compound ... Security. Park...</td>\n",
              "      <td>1800000</td>\n",
              "    </tr>\n",
              "    <tr>\n",
              "      <th>3</th>\n",
              "      <td>1</td>\n",
              "      <td>pedro-gbagada area gbagada lagos</td>\n",
              "      <td>pedro</td>\n",
              "      <td>2 bed 2 bath 3 toilet</td>\n",
              "      <td>2</td>\n",
              "      <td>2</td>\n",
              "      <td>3</td>\n",
              "      <td>Serviced 2 Bedroom all rooms en-suite flat wit...</td>\n",
              "      <td>Serviced 2 Bedroom all rooms en-suite flat wit...</td>\n",
              "      <td>1300000</td>\n",
              "    </tr>\n",
              "    <tr>\n",
              "      <th>4</th>\n",
              "      <td>1</td>\n",
              "      <td>back of mobil filling station by domino soluyi...</td>\n",
              "      <td>back of mobil filling station by domino soluyi</td>\n",
              "      <td>3 bed 3 bath 3 toilet</td>\n",
              "      <td>3</td>\n",
              "      <td>3</td>\n",
              "      <td>3</td>\n",
              "      <td>Very Decent 3brm Flat with 3t, 3b, 2 rooms are...</td>\n",
              "      <td>Very Decent 3brm Flat with 3t, 3b, 2 rooms are...</td>\n",
              "      <td>900000</td>\n",
              "    </tr>\n",
              "    <tr>\n",
              "      <th>5</th>\n",
              "      <td>1</td>\n",
              "      <td>shadia estate behind chevron staff club soluyi...</td>\n",
              "      <td>shadia estate behind chevron staff club soluyi</td>\n",
              "      <td>2 bed 2 bath 2 toilet</td>\n",
              "      <td>2</td>\n",
              "      <td>2</td>\n",
              "      <td>2</td>\n",
              "      <td>Very nice 2brm flat bungalow with 2t, 2b, 1roo...</td>\n",
              "      <td>Very nice 2brm flat bungalow with 2t, 2b, 1roo...</td>\n",
              "      <td>1000000</td>\n",
              "    </tr>\n",
              "    <tr>\n",
              "      <th>6</th>\n",
              "      <td>1</td>\n",
              "      <td>iyana oworo oworonshoki gbagada lagos</td>\n",
              "      <td>iyana oworo oworonshoki</td>\n",
              "      <td>bed 1 bath 1 toilet</td>\n",
              "      <td>None</td>\n",
              "      <td>1</td>\n",
              "      <td>1</td>\n",
              "      <td>Newly built room self contain with kitchen,toi...</td>\n",
              "      <td>Newly built room self contain with kitchen,toi...</td>\n",
              "      <td>300000</td>\n",
              "    </tr>\n",
              "    <tr>\n",
              "      <th>7</th>\n",
              "      <td>1</td>\n",
              "      <td>after deperlife church gbagada lagos</td>\n",
              "      <td>after deperlife church</td>\n",
              "      <td>1 bed 1 bath 1 toilet</td>\n",
              "      <td>1</td>\n",
              "      <td>1</td>\n",
              "      <td>1</td>\n",
              "      <td>Mini flat (1bedroom Apartment with kitchen toi...</td>\n",
              "      <td>Mini flat (1bedroom Apartment with kitchen toi...</td>\n",
              "      <td>450000</td>\n",
              "    </tr>\n",
              "    <tr>\n",
              "      <th>8</th>\n",
              "      <td>1</td>\n",
              "      <td>odo-eran iyana orowo gbagada oworonshoki gbaga...</td>\n",
              "      <td>odoeran iyana orowo</td>\n",
              "      <td>2 bed 2 bath 3 toilet</td>\n",
              "      <td>2</td>\n",
              "      <td>2</td>\n",
              "      <td>3</td>\n",
              "      <td>Newly built two bedroom flat with all rooms en...</td>\n",
              "      <td>Newly built two bedroom flat with all rooms en...</td>\n",
              "      <td>550000</td>\n",
              "    </tr>\n",
              "    <tr>\n",
              "      <th>9</th>\n",
              "      <td>1</td>\n",
              "      <td>community street ,odo eran,iyana oworo gbagada...</td>\n",
              "      <td>community street ,odo eran,iyana oworo</td>\n",
              "      <td>1 bed 1 bath 1 toilet</td>\n",
              "      <td>1</td>\n",
              "      <td>1</td>\n",
              "      <td>1</td>\n",
              "      <td>For lease: Newly built mini flat with kitchen,...</td>\n",
              "      <td>For lease: Newly built mini flat with kitchen,...</td>\n",
              "      <td>400000</td>\n",
              "    </tr>\n",
              "  </tbody>\n",
              "</table>\n",
              "</div>"
            ],
            "text/plain": [
              "   page  ...     price\n",
              "0     1  ...    800000\n",
              "1     1  ...   1000000\n",
              "2     1  ...   1800000\n",
              "3     1  ...   1300000\n",
              "4     1  ...    900000\n",
              "5     1  ...   1000000\n",
              "6     1  ...    300000\n",
              "7     1  ...    450000\n",
              "8     1  ...    550000\n",
              "9     1  ...    400000\n",
              "\n",
              "[10 rows x 10 columns]"
            ]
          },
          "metadata": {
            "tags": []
          },
          "execution_count": 12
        }
      ]
    },
    {
      "cell_type": "code",
      "metadata": {
        "id": "ooN2rMQp9L_f",
        "outputId": "4e456d9c-f266-486d-8854-3c8057b1167c",
        "colab": {
          "base_uri": "https://localhost:8080/",
          "height": 34
        }
      },
      "source": [
        "#check rows with null values\n",
        "sum(ld.apply(lambda x: sum(x.isnull().values), axis = 0)>0)"
      ],
      "execution_count": null,
      "outputs": [
        {
          "output_type": "execute_result",
          "data": {
            "text/plain": [
              "9"
            ]
          },
          "metadata": {
            "tags": []
          },
          "execution_count": 13
        }
      ]
    },
    {
      "cell_type": "code",
      "metadata": {
        "id": "-M-kABtz93mW"
      },
      "source": [
        "#removing all null values\n",
        "ld = ld.dropna(how='any',axis=0) "
      ],
      "execution_count": null,
      "outputs": []
    },
    {
      "cell_type": "code",
      "metadata": {
        "id": "X7wO22ae99Nv",
        "outputId": "9a4b8472-da39-45b5-fd73-8f30774e8b98",
        "colab": {
          "base_uri": "https://localhost:8080/",
          "height": 204
        }
      },
      "source": [
        "#checking for null values\n",
        "ld.isnull().sum()"
      ],
      "execution_count": null,
      "outputs": [
        {
          "output_type": "execute_result",
          "data": {
            "text/plain": [
              "page                 0\n",
              "location             0\n",
              "specific_location    0\n",
              "features             0\n",
              "bedrooms             0\n",
              "bathrooms            0\n",
              "toilets              0\n",
              "description          0\n",
              "other_description    0\n",
              "price                0\n",
              "dtype: int64"
            ]
          },
          "metadata": {
            "tags": []
          },
          "execution_count": 15
        }
      ]
    },
    {
      "cell_type": "code",
      "metadata": {
        "id": "ZJOiTAMJ-nFw"
      },
      "source": [
        "#ld['location'] = ld['location'].str.extract(r'(gbagada|ikeja|surulere|ogba|iyana ipaja|lekki|ajah|ikorodu)').map({'gbagada':'gbagada','ikeja':'ikeja','ogba':'ogba','iyana ipaja':'iyana ipaja','lekki':'lekki','ajah':'ajah','ikorodu':'ikorodu'})"
      ],
      "execution_count": null,
      "outputs": []
    },
    {
      "cell_type": "code",
      "metadata": {
        "id": "UbH9o62AF41U",
        "outputId": "f0cfa2b0-8802-4951-bc32-fbf520bdedb0",
        "colab": {
          "base_uri": "https://localhost:8080/",
          "height": 802
        }
      },
      "source": [
        "#changing location content\n",
        "ld[\"location\"][ld['location'].str.contains(\"gbagada\")] =\"gbagada\"\n",
        "ld[\"location\"][ld['location'].str.contains(\"ikeja\")] =\"ikeja\"\n",
        "ld[\"location\"][ld['location'].str.contains(\"iyana ipaja\")] =\"iyana ipaja\"\n",
        "ld[\"location\"][ld['location'].str.contains(\"surulere\")] =\"surulere\"\n",
        "ld[\"location\"][ld['location'].str.contains(\"ogba\")] =\"ogba\"\n",
        "ld[\"location\"][ld['location'].str.contains(\"lekki\")] =\"lekki\"\n",
        "ld[\"location\"][ld['location'].str.contains(\"ajah\")] =\"ajah\"\n",
        "ld[\"location\"][ld['location'].str.contains(\"ikorodu\")] =\"ikorodu\""
      ],
      "execution_count": null,
      "outputs": [
        {
          "output_type": "stream",
          "text": [
            "/usr/local/lib/python3.6/dist-packages/ipykernel_launcher.py:1: SettingWithCopyWarning: \n",
            "A value is trying to be set on a copy of a slice from a DataFrame\n",
            "\n",
            "See the caveats in the documentation: https://pandas.pydata.org/pandas-docs/stable/user_guide/indexing.html#returning-a-view-versus-a-copy\n",
            "  \"\"\"Entry point for launching an IPython kernel.\n",
            "/usr/local/lib/python3.6/dist-packages/pandas/core/generic.py:8765: SettingWithCopyWarning: \n",
            "A value is trying to be set on a copy of a slice from a DataFrame\n",
            "\n",
            "See the caveats in the documentation: https://pandas.pydata.org/pandas-docs/stable/user_guide/indexing.html#returning-a-view-versus-a-copy\n",
            "  self._update_inplace(new_data)\n",
            "/usr/local/lib/python3.6/dist-packages/ipykernel_launcher.py:2: SettingWithCopyWarning: \n",
            "A value is trying to be set on a copy of a slice from a DataFrame\n",
            "\n",
            "See the caveats in the documentation: https://pandas.pydata.org/pandas-docs/stable/user_guide/indexing.html#returning-a-view-versus-a-copy\n",
            "  \n",
            "/usr/local/lib/python3.6/dist-packages/ipykernel_launcher.py:3: SettingWithCopyWarning: \n",
            "A value is trying to be set on a copy of a slice from a DataFrame\n",
            "\n",
            "See the caveats in the documentation: https://pandas.pydata.org/pandas-docs/stable/user_guide/indexing.html#returning-a-view-versus-a-copy\n",
            "  This is separate from the ipykernel package so we can avoid doing imports until\n",
            "/usr/local/lib/python3.6/dist-packages/ipykernel_launcher.py:4: SettingWithCopyWarning: \n",
            "A value is trying to be set on a copy of a slice from a DataFrame\n",
            "\n",
            "See the caveats in the documentation: https://pandas.pydata.org/pandas-docs/stable/user_guide/indexing.html#returning-a-view-versus-a-copy\n",
            "  after removing the cwd from sys.path.\n",
            "/usr/local/lib/python3.6/dist-packages/ipykernel_launcher.py:5: SettingWithCopyWarning: \n",
            "A value is trying to be set on a copy of a slice from a DataFrame\n",
            "\n",
            "See the caveats in the documentation: https://pandas.pydata.org/pandas-docs/stable/user_guide/indexing.html#returning-a-view-versus-a-copy\n",
            "  \"\"\"\n",
            "/usr/local/lib/python3.6/dist-packages/ipykernel_launcher.py:6: SettingWithCopyWarning: \n",
            "A value is trying to be set on a copy of a slice from a DataFrame\n",
            "\n",
            "See the caveats in the documentation: https://pandas.pydata.org/pandas-docs/stable/user_guide/indexing.html#returning-a-view-versus-a-copy\n",
            "  \n",
            "/usr/local/lib/python3.6/dist-packages/ipykernel_launcher.py:7: SettingWithCopyWarning: \n",
            "A value is trying to be set on a copy of a slice from a DataFrame\n",
            "\n",
            "See the caveats in the documentation: https://pandas.pydata.org/pandas-docs/stable/user_guide/indexing.html#returning-a-view-versus-a-copy\n",
            "  import sys\n",
            "/usr/local/lib/python3.6/dist-packages/ipykernel_launcher.py:8: SettingWithCopyWarning: \n",
            "A value is trying to be set on a copy of a slice from a DataFrame\n",
            "\n",
            "See the caveats in the documentation: https://pandas.pydata.org/pandas-docs/stable/user_guide/indexing.html#returning-a-view-versus-a-copy\n",
            "  \n"
          ],
          "name": "stderr"
        }
      ]
    },
    {
      "cell_type": "code",
      "metadata": {
        "id": "uaaKHYHrHA9P",
        "outputId": "6bf87dee-311b-441b-a1f7-904eb8bbd0b5",
        "colab": {
          "base_uri": "https://localhost:8080/",
          "height": 221
        }
      },
      "source": [
        "#testing the values\n",
        "ld['location'][ld['location']=='ogba']"
      ],
      "execution_count": null,
      "outputs": [
        {
          "output_type": "execute_result",
          "data": {
            "text/plain": [
              "1724    ogba\n",
              "1725    ogba\n",
              "1726    ogba\n",
              "1727    ogba\n",
              "1728    ogba\n",
              "        ... \n",
              "1905    ogba\n",
              "1908    ogba\n",
              "1909    ogba\n",
              "5102    ogba\n",
              "5111    ogba\n",
              "Name: location, Length: 161, dtype: object"
            ]
          },
          "metadata": {
            "tags": []
          },
          "execution_count": 18
        }
      ]
    },
    {
      "cell_type": "code",
      "metadata": {
        "id": "Mk903KXbH0wa",
        "outputId": "9f36b99c-9c56-459e-cb78-a974a7c719c1",
        "colab": {
          "base_uri": "https://localhost:8080/",
          "height": 513
        }
      },
      "source": [
        "ld.head()"
      ],
      "execution_count": null,
      "outputs": [
        {
          "output_type": "execute_result",
          "data": {
            "text/html": [
              "<div>\n",
              "<style scoped>\n",
              "    .dataframe tbody tr th:only-of-type {\n",
              "        vertical-align: middle;\n",
              "    }\n",
              "\n",
              "    .dataframe tbody tr th {\n",
              "        vertical-align: top;\n",
              "    }\n",
              "\n",
              "    .dataframe thead th {\n",
              "        text-align: right;\n",
              "    }\n",
              "</style>\n",
              "<table border=\"1\" class=\"dataframe\">\n",
              "  <thead>\n",
              "    <tr style=\"text-align: right;\">\n",
              "      <th></th>\n",
              "      <th>page</th>\n",
              "      <th>location</th>\n",
              "      <th>specific_location</th>\n",
              "      <th>features</th>\n",
              "      <th>bedrooms</th>\n",
              "      <th>bathrooms</th>\n",
              "      <th>toilets</th>\n",
              "      <th>description</th>\n",
              "      <th>other_description</th>\n",
              "      <th>price</th>\n",
              "    </tr>\n",
              "  </thead>\n",
              "  <tbody>\n",
              "    <tr>\n",
              "      <th>0</th>\n",
              "      <td>1</td>\n",
              "      <td>gbagada</td>\n",
              "      <td>ifako</td>\n",
              "      <td>2 bed 2 bath 2 toilet</td>\n",
              "      <td>2</td>\n",
              "      <td>2</td>\n",
              "      <td>2</td>\n",
              "      <td>Decent 2 bedrooms ground flat in a block of 4,...</td>\n",
              "      <td>Decent 2 bedrooms ground flat in a block of 4,...</td>\n",
              "      <td>800000</td>\n",
              "    </tr>\n",
              "    <tr>\n",
              "      <th>1</th>\n",
              "      <td>1</td>\n",
              "      <td>gbagada</td>\n",
              "      <td>ifako ifako</td>\n",
              "      <td>2 bed 2 bath 3 toilet</td>\n",
              "      <td>2</td>\n",
              "      <td>2</td>\n",
              "      <td>3</td>\n",
              "      <td>2 bedroom apartment in a block of 4, upstairs ...</td>\n",
              "      <td>2 bedroom apartment in a block of 4, upstairs ...</td>\n",
              "      <td>1000000</td>\n",
              "    </tr>\n",
              "    <tr>\n",
              "      <th>2</th>\n",
              "      <td>1</td>\n",
              "      <td>gbagada</td>\n",
              "      <td>millenuim ups</td>\n",
              "      <td>3 bed 3 bath 4 toilet</td>\n",
              "      <td>3</td>\n",
              "      <td>3</td>\n",
              "      <td>4</td>\n",
              "      <td>two tenants in the compound ... Security. Park...</td>\n",
              "      <td>two tenants in the compound ... Security. Park...</td>\n",
              "      <td>1800000</td>\n",
              "    </tr>\n",
              "    <tr>\n",
              "      <th>3</th>\n",
              "      <td>1</td>\n",
              "      <td>gbagada</td>\n",
              "      <td>pedro</td>\n",
              "      <td>2 bed 2 bath 3 toilet</td>\n",
              "      <td>2</td>\n",
              "      <td>2</td>\n",
              "      <td>3</td>\n",
              "      <td>Serviced 2 Bedroom all rooms en-suite flat wit...</td>\n",
              "      <td>Serviced 2 Bedroom all rooms en-suite flat wit...</td>\n",
              "      <td>1300000</td>\n",
              "    </tr>\n",
              "    <tr>\n",
              "      <th>4</th>\n",
              "      <td>1</td>\n",
              "      <td>gbagada</td>\n",
              "      <td>back of mobil filling station by domino soluyi</td>\n",
              "      <td>3 bed 3 bath 3 toilet</td>\n",
              "      <td>3</td>\n",
              "      <td>3</td>\n",
              "      <td>3</td>\n",
              "      <td>Very Decent 3brm Flat with 3t, 3b, 2 rooms are...</td>\n",
              "      <td>Very Decent 3brm Flat with 3t, 3b, 2 rooms are...</td>\n",
              "      <td>900000</td>\n",
              "    </tr>\n",
              "  </tbody>\n",
              "</table>\n",
              "</div>"
            ],
            "text/plain": [
              "   page location  ...                                  other_description     price\n",
              "0     1  gbagada  ...  Decent 2 bedrooms ground flat in a block of 4,...    800000\n",
              "1     1  gbagada  ...  2 bedroom apartment in a block of 4, upstairs ...   1000000\n",
              "2     1  gbagada  ...  two tenants in the compound ... Security. Park...   1800000\n",
              "3     1  gbagada  ...  Serviced 2 Bedroom all rooms en-suite flat wit...   1300000\n",
              "4     1  gbagada  ...  Very Decent 3brm Flat with 3t, 3b, 2 rooms are...    900000\n",
              "\n",
              "[5 rows x 10 columns]"
            ]
          },
          "metadata": {
            "tags": []
          },
          "execution_count": 19
        }
      ]
    }
  ]
}