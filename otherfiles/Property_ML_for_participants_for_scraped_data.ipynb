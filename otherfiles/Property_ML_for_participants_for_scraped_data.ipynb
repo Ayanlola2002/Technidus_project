{
  "cells": [
    {
      "cell_type": "markdown",
      "metadata": {
        "id": "view-in-github",
        "colab_type": "text"
      },
      "source": [
        "<a href=\"https://colab.research.google.com/github/Ayanlola2002/Technidus_project/blob/master/Property_ML_for_participants_for_scraped_data.ipynb\" target=\"_parent\"><img src=\"https://colab.research.google.com/assets/colab-badge.svg\" alt=\"Open In Colab\"/></a>"
      ]
    },
    {
      "cell_type": "code",
      "execution_count": null,
      "metadata": {
        "id": "FvzncMm5FEX_"
      },
      "outputs": [],
      "source": [
        "from sklearn.ensemble import RandomForestClassifier\n",
        "from sklearn.ensemble import RandomForestRegressor\n",
        "from sklearn import preprocessing\n",
        "import sklearn.model_selection as ms\n",
        "#from xgboost import XGBClassifier\n",
        "#from xgboost import XGBRegressor\n",
        "#from sklearn.ensemble import GradientBoostingRegressor\n",
        "#import lightgbm as lgbm\n",
        "import sklearn.metrics as sklm\n",
        "import matplotlib.pyplot as plt\n",
        "import pandas as pd\n",
        "import numpy as np\n",
        "import warnings\n",
        "warnings.filterwarnings('ignore')\n",
        "import seaborn as sns\n",
        "%matplotlib inline"
      ]
    },
    {
      "cell_type": "code",
      "execution_count": null,
      "metadata": {
        "id": "guUd6nRVFEYQ"
      },
      "outputs": [],
      "source": [
        "#import datasets\n",
        "\n",
        "train = pd.read_csv(\"Lagos_house_data.csv\",encoding = \"ISO-8859-1\")"
      ]
    },
    {
      "cell_type": "code",
      "execution_count": null,
      "metadata": {
        "scrolled": true,
        "id": "PQVfWMVXFEYS",
        "outputId": "8c0bd816-047c-4e3b-ec53-e51cf7215890"
      },
      "outputs": [
        {
          "data": {
            "text/html": [
              "<div>\n",
              "<style scoped>\n",
              "    .dataframe tbody tr th:only-of-type {\n",
              "        vertical-align: middle;\n",
              "    }\n",
              "\n",
              "    .dataframe tbody tr th {\n",
              "        vertical-align: top;\n",
              "    }\n",
              "\n",
              "    .dataframe thead th {\n",
              "        text-align: right;\n",
              "    }\n",
              "</style>\n",
              "<table border=\"1\" class=\"dataframe\">\n",
              "  <thead>\n",
              "    <tr style=\"text-align: right;\">\n",
              "      <th></th>\n",
              "      <th>location</th>\n",
              "      <th>location_s</th>\n",
              "      <th>features</th>\n",
              "      <th>bath</th>\n",
              "      <th>bed</th>\n",
              "      <th>toilet</th>\n",
              "      <th>price</th>\n",
              "      <th>description</th>\n",
              "      <th>page</th>\n",
              "      <th>loc</th>\n",
              "    </tr>\n",
              "  </thead>\n",
              "  <tbody>\n",
              "    <tr>\n",
              "      <th>0</th>\n",
              "      <td>sosanya soluyi gbagada lagos</td>\n",
              "      <td>sosanya soluyi</td>\n",
              "      <td>3 bed 2 bath 3 toilet</td>\n",
              "      <td>2</td>\n",
              "      <td>3</td>\n",
              "      <td>3</td>\n",
              "      <td>850000</td>\n",
              "      <td>3 bedroom Flat / Apartment for rent Sosanya So...</td>\n",
              "      <td>1</td>\n",
              "      <td>gbagada</td>\n",
              "    </tr>\n",
              "    <tr>\n",
              "      <th>1</th>\n",
              "      <td>millenuim ups gbagada lagos</td>\n",
              "      <td>millenuim ups</td>\n",
              "      <td>1 bed 1 bath 1 toilet</td>\n",
              "      <td>1</td>\n",
              "      <td>1</td>\n",
              "      <td>1</td>\n",
              "      <td>650000</td>\n",
              "      <td>1 bedroom mini flat Mini flat Flat / Apartment...</td>\n",
              "      <td>1</td>\n",
              "      <td>gbagada</td>\n",
              "    </tr>\n",
              "    <tr>\n",
              "      <th>2</th>\n",
              "      <td>alapere gbagada lagos</td>\n",
              "      <td>alapere</td>\n",
              "      <td>2 bed 2 bath 2 toilet</td>\n",
              "      <td>2</td>\n",
              "      <td>2</td>\n",
              "      <td>2</td>\n",
              "      <td>600000</td>\n",
              "      <td>2bed at Alapere, all rooms ensuit ... ...</td>\n",
              "      <td>1</td>\n",
              "      <td>gbagada</td>\n",
              "    </tr>\n",
              "    <tr>\n",
              "      <th>3</th>\n",
              "      <td>medina gbagada lagos</td>\n",
              "      <td>medina</td>\n",
              "      <td>3 bed 3 bath 4 toilet</td>\n",
              "      <td>3</td>\n",
              "      <td>3</td>\n",
              "      <td>4</td>\n",
              "      <td>1500000</td>\n",
              "      <td>3 bedroom Flat / Apartment for rent Medina Gba...</td>\n",
              "      <td>1</td>\n",
              "      <td>gbagada</td>\n",
              "    </tr>\n",
              "    <tr>\n",
              "      <th>4</th>\n",
              "      <td>adeola atunrase medina gbagada lagos</td>\n",
              "      <td>adeola atunrase medina</td>\n",
              "      <td>3 bed 3 bath 3 toilet</td>\n",
              "      <td>3</td>\n",
              "      <td>3</td>\n",
              "      <td>3</td>\n",
              "      <td>1500000</td>\n",
              "      <td>3 bedroom House for rent Adeola Atunrase Medin...</td>\n",
              "      <td>1</td>\n",
              "      <td>gbagada</td>\n",
              "    </tr>\n",
              "  </tbody>\n",
              "</table>\n",
              "</div>"
            ],
            "text/plain": [
              "                               location              location_s  \\\n",
              "0          sosanya soluyi gbagada lagos          sosanya soluyi   \n",
              "1           millenuim ups gbagada lagos           millenuim ups   \n",
              "2                 alapere gbagada lagos                 alapere   \n",
              "3                  medina gbagada lagos                  medina   \n",
              "4  adeola atunrase medina gbagada lagos  adeola atunrase medina   \n",
              "\n",
              "                features bath  bed toilet    price  \\\n",
              "0  3 bed 2 bath 3 toilet    2    3      3   850000   \n",
              "1  1 bed 1 bath 1 toilet    1    1      1   650000   \n",
              "2  2 bed 2 bath 2 toilet    2    2      2   600000   \n",
              "3  3 bed 3 bath 4 toilet    3    3      4  1500000   \n",
              "4  3 bed 3 bath 3 toilet    3    3      3  1500000   \n",
              "\n",
              "                                         description  page      loc  \n",
              "0  3 bedroom Flat / Apartment for rent Sosanya So...     1  gbagada  \n",
              "1  1 bedroom mini flat Mini flat Flat / Apartment...     1  gbagada  \n",
              "2          2bed at Alapere, all rooms ensuit ... ...     1  gbagada  \n",
              "3  3 bedroom Flat / Apartment for rent Medina Gba...     1  gbagada  \n",
              "4  3 bedroom House for rent Adeola Atunrase Medin...     1  gbagada  "
            ]
          },
          "execution_count": 3,
          "metadata": {},
          "output_type": "execute_result"
        }
      ],
      "source": [
        "#train = train1.merge(train2,how=\"left\",on='row_id')\n",
        "train.head()"
      ]
    },
    {
      "cell_type": "code",
      "execution_count": null,
      "metadata": {
        "id": "ZgBIV7ijFEYW",
        "outputId": "a2c74382-a9c7-4df2-9320-7e00b2917102"
      },
      "outputs": [
        {
          "data": {
            "text/plain": [
              "Index(['location', 'location_s', 'features', 'bath', 'bed', 'toilet', 'price',\n",
              "       'description', 'page', 'loc'],\n",
              "      dtype='object')"
            ]
          },
          "execution_count": 4,
          "metadata": {},
          "output_type": "execute_result"
        }
      ],
      "source": [
        "train.columns"
      ]
    },
    {
      "cell_type": "code",
      "execution_count": null,
      "metadata": {
        "id": "6SRJEGvvFEYY"
      },
      "outputs": [],
      "source": [
        "#Change coluumns names\n",
        "train.columns = ['spec_location','location_s','features','bathrooms','bedrooms','toilets','price','description','page','location']"
      ]
    },
    {
      "cell_type": "code",
      "execution_count": null,
      "metadata": {
        "id": "93wmBGd1FEYa"
      },
      "outputs": [],
      "source": [
        "#Subset the data to capture only relevant columns\n",
        "train = train[['bedrooms','bathrooms','toilets','description',\n",
        "               'location','spec_location','price']]"
      ]
    },
    {
      "cell_type": "code",
      "execution_count": null,
      "metadata": {
        "id": "WYnryGONFEYc",
        "outputId": "0ce5e69c-2ad3-4581-f162-fd44729a6685"
      },
      "outputs": [
        {
          "data": {
            "text/plain": [
              "(5188, 7)"
            ]
          },
          "execution_count": 7,
          "metadata": {},
          "output_type": "execute_result"
        }
      ],
      "source": [
        "#Inspect dataframe\n",
        "train.shape"
      ]
    },
    {
      "cell_type": "code",
      "execution_count": null,
      "metadata": {
        "scrolled": false,
        "id": "FfnmPJvYFEYe",
        "outputId": "e25ed685-d9ae-446e-f734-5f589de930b8"
      },
      "outputs": [
        {
          "data": {
            "text/plain": [
              "bedrooms         0\n",
              "bathrooms        0\n",
              "toilets          0\n",
              "description      0\n",
              "location         0\n",
              "spec_location    0\n",
              "price            0\n",
              "dtype: int64"
            ]
          },
          "execution_count": 8,
          "metadata": {},
          "output_type": "execute_result"
        }
      ],
      "source": [
        "#check for null values\n",
        "train.isnull().sum()"
      ]
    },
    {
      "cell_type": "code",
      "execution_count": null,
      "metadata": {
        "id": "mr-td-peFEYh"
      },
      "outputs": [],
      "source": [
        "#convert price to numeric from string\n",
        "train2 = train.copy()\n",
        "train2 ['price']= pd.to_numeric(train2['price'],errors = 'coerce')  #.str.strip().replace(\",\",\"\").replace(\"$\",\"\").astype(float)"
      ]
    },
    {
      "cell_type": "code",
      "execution_count": null,
      "metadata": {
        "id": "g1EvA62XFEYk"
      },
      "outputs": [],
      "source": [
        "#Fill Price NAs after conversion\n",
        "train2['price']=train2['price'].fillna(0)"
      ]
    },
    {
      "cell_type": "code",
      "execution_count": null,
      "metadata": {
        "id": "Cek4meiwFEYm"
      },
      "outputs": [],
      "source": [
        "#Subset data to ensure only data with price >0 is used\n",
        "train2 = train2[train2['price']!=0]"
      ]
    },
    {
      "cell_type": "code",
      "execution_count": null,
      "metadata": {
        "id": "ZJqDfVIrFEYn"
      },
      "outputs": [],
      "source": [
        "#convert house details to numeric from string just like price\n",
        "train2 ['bedrooms']= pd.to_numeric(train2['bedrooms'],errors = 'coerce')\n",
        "train2 ['bathrooms']= pd.to_numeric(train2['bathrooms'],errors = 'coerce')\n",
        "train2 ['toilets']= pd.to_numeric(train2['toilets'],errors = 'coerce')"
      ]
    },
    {
      "cell_type": "code",
      "execution_count": null,
      "metadata": {
        "id": "tHT7jf-OFEYp"
      },
      "outputs": [],
      "source": [
        "#Fill NAs after conversion\n",
        "train2['bedrooms']=train2['bedrooms'].fillna(0)\n",
        "train2['bathrooms']=train2['bathrooms'].fillna(0)\n",
        "train2['toilets']=train2['toilets'].fillna(0)"
      ]
    },
    {
      "cell_type": "code",
      "execution_count": null,
      "metadata": {
        "id": "6seU0yZbFEYq"
      },
      "outputs": [],
      "source": [
        "#Subset data to ensure only data with values >0 is used\n",
        "train2 = train2[(train2['bedrooms']!=0) | (train2['bathrooms'] !=0) | (train2['toilets']!=0)]"
      ]
    },
    {
      "cell_type": "code",
      "execution_count": null,
      "metadata": {
        "id": "MIKPYNuGFEYr",
        "outputId": "e9c6826b-c2b4-4fb2-db7a-9a24b3226912"
      },
      "outputs": [
        {
          "data": {
            "text/plain": [
              "(4945, 7)"
            ]
          },
          "execution_count": 15,
          "metadata": {},
          "output_type": "execute_result"
        }
      ],
      "source": [
        "#Inspect new shape\n",
        "train2.shape"
      ]
    },
    {
      "cell_type": "code",
      "execution_count": null,
      "metadata": {
        "id": "R5ZNVUKNFEYt"
      },
      "outputs": [],
      "source": [
        "#create new features\n",
        "train2['estate_flag'] = train2['description'].apply(lambda x: len([c for c in str(x).lower().split() if \"estate\" in c]))\n",
        "train2['terrace_flag'] = train2['description'].apply(lambda x: len([c for c in str(x).lower().split() if \"terraced\" \n",
        "                                                                  in c or \"terrace\" in c or \"detached\" in c\n",
        "                                                                 or \"duplex\" in c]))\n",
        "train2['new_flag'] = train2['description'].apply(lambda x: len([c for c in str(x).lower().split()\n",
        "                                                              if \"new\" in c or \"luxur\" in c \n",
        "                                                              or \"executive\" in c]))\n",
        "train2['serviced_flag'] = train2['description'].apply(lambda x: len([c for c in str(x).lower().split() if \"service\" in c]))"
      ]
    },
    {
      "cell_type": "code",
      "execution_count": null,
      "metadata": {
        "id": "D9jDOzfaFEYv"
      },
      "outputs": [],
      "source": [
        "#Convert new features to 1 and 0 by allocating values greater than 1 to 1\n",
        "#The features were created by using a count(len) this means some rows may have a value greater than 1\n",
        "train2['estate_flag'][train2['estate_flag']>=1] = 1\n",
        "train2['terrace_flag'][train2['terrace_flag']>=1] = 1\n",
        "train2['serviced_flag'][train2['serviced_flag']>=1] = 1\n",
        "train2['new_flag'][train2['new_flag']>=1] = 1"
      ]
    },
    {
      "cell_type": "code",
      "execution_count": null,
      "metadata": {
        "id": "c8R4Vs29FEYw",
        "outputId": "e34fcbb7-7ec7-47ec-fc29-b5aeae3a1eff"
      },
      "outputs": [
        {
          "data": {
            "text/plain": [
              "<matplotlib.axes._subplots.AxesSubplot at 0x189a12884a8>"
            ]
          },
          "execution_count": 18,
          "metadata": {},
          "output_type": "execute_result"
        },
        {
          "data": {
            "image/png": "[encoded data removed]",
            "text/plain": [
              "<Figure size 1440x360 with 2 Axes>"
            ]
          },
          "metadata": {
            "needs_background": "light"
          },
          "output_type": "display_data"
        }
      ],
      "source": [
        "#Check correlations\n",
        "corr= train2.corr()\n",
        "#corr\n",
        "f, ax = plt.subplots(figsize=(20, 5))\n",
        "sns.heatmap(corr,cmap='coolwarm',linewidths=2.0, annot=True)"
      ]
    },
    {
      "cell_type": "code",
      "execution_count": null,
      "metadata": {
        "id": "UsqMNseBFEYx",
        "outputId": "893ff020-727c-4a8c-c7b5-19dfff554e55"
      },
      "outputs": [
        {
          "data": {
            "text/html": [
              "<div>\n",
              "<style scoped>\n",
              "    .dataframe tbody tr th:only-of-type {\n",
              "        vertical-align: middle;\n",
              "    }\n",
              "\n",
              "    .dataframe tbody tr th {\n",
              "        vertical-align: top;\n",
              "    }\n",
              "\n",
              "    .dataframe thead th {\n",
              "        text-align: right;\n",
              "    }\n",
              "</style>\n",
              "<table border=\"1\" class=\"dataframe\">\n",
              "  <thead>\n",
              "    <tr style=\"text-align: right;\">\n",
              "      <th></th>\n",
              "      <th>bedrooms</th>\n",
              "      <th>bathrooms</th>\n",
              "      <th>toilets</th>\n",
              "      <th>price</th>\n",
              "      <th>estate_flag</th>\n",
              "      <th>terrace_flag</th>\n",
              "      <th>new_flag</th>\n",
              "      <th>serviced_flag</th>\n",
              "    </tr>\n",
              "  </thead>\n",
              "  <tbody>\n",
              "    <tr>\n",
              "      <th>bedrooms</th>\n",
              "      <td>1.000000</td>\n",
              "      <td>0.664077</td>\n",
              "      <td>0.635505</td>\n",
              "      <td>-0.002764</td>\n",
              "      <td>0.002256</td>\n",
              "      <td>0.594304</td>\n",
              "      <td>0.035459</td>\n",
              "      <td>0.059701</td>\n",
              "    </tr>\n",
              "    <tr>\n",
              "      <th>bathrooms</th>\n",
              "      <td>0.664077</td>\n",
              "      <td>1.000000</td>\n",
              "      <td>0.935947</td>\n",
              "      <td>0.011467</td>\n",
              "      <td>-0.014470</td>\n",
              "      <td>0.415974</td>\n",
              "      <td>0.158246</td>\n",
              "      <td>0.103827</td>\n",
              "    </tr>\n",
              "    <tr>\n",
              "      <th>toilets</th>\n",
              "      <td>0.635505</td>\n",
              "      <td>0.935947</td>\n",
              "      <td>1.000000</td>\n",
              "      <td>0.005849</td>\n",
              "      <td>-0.029831</td>\n",
              "      <td>0.396510</td>\n",
              "      <td>0.159454</td>\n",
              "      <td>0.149259</td>\n",
              "    </tr>\n",
              "    <tr>\n",
              "      <th>price</th>\n",
              "      <td>-0.002764</td>\n",
              "      <td>0.011467</td>\n",
              "      <td>0.005849</td>\n",
              "      <td>1.000000</td>\n",
              "      <td>-0.011016</td>\n",
              "      <td>0.005656</td>\n",
              "      <td>0.012363</td>\n",
              "      <td>-0.009595</td>\n",
              "    </tr>\n",
              "    <tr>\n",
              "      <th>estate_flag</th>\n",
              "      <td>0.002256</td>\n",
              "      <td>-0.014470</td>\n",
              "      <td>-0.029831</td>\n",
              "      <td>-0.011016</td>\n",
              "      <td>1.000000</td>\n",
              "      <td>0.081675</td>\n",
              "      <td>0.028634</td>\n",
              "      <td>-0.019682</td>\n",
              "    </tr>\n",
              "    <tr>\n",
              "      <th>terrace_flag</th>\n",
              "      <td>0.594304</td>\n",
              "      <td>0.415974</td>\n",
              "      <td>0.396510</td>\n",
              "      <td>0.005656</td>\n",
              "      <td>0.081675</td>\n",
              "      <td>1.000000</td>\n",
              "      <td>0.040726</td>\n",
              "      <td>0.028112</td>\n",
              "    </tr>\n",
              "    <tr>\n",
              "      <th>new_flag</th>\n",
              "      <td>0.035459</td>\n",
              "      <td>0.158246</td>\n",
              "      <td>0.159454</td>\n",
              "      <td>0.012363</td>\n",
              "      <td>0.028634</td>\n",
              "      <td>0.040726</td>\n",
              "      <td>1.000000</td>\n",
              "      <td>0.091678</td>\n",
              "    </tr>\n",
              "    <tr>\n",
              "      <th>serviced_flag</th>\n",
              "      <td>0.059701</td>\n",
              "      <td>0.103827</td>\n",
              "      <td>0.149259</td>\n",
              "      <td>-0.009595</td>\n",
              "      <td>-0.019682</td>\n",
              "      <td>0.028112</td>\n",
              "      <td>0.091678</td>\n",
              "      <td>1.000000</td>\n",
              "    </tr>\n",
              "  </tbody>\n",
              "</table>\n",
              "</div>"
            ],
            "text/plain": [
              "               bedrooms  bathrooms   toilets     price  estate_flag  \\\n",
              "bedrooms       1.000000   0.664077  0.635505 -0.002764     0.002256   \n",
              "bathrooms      0.664077   1.000000  0.935947  0.011467    -0.014470   \n",
              "toilets        0.635505   0.935947  1.000000  0.005849    -0.029831   \n",
              "price         -0.002764   0.011467  0.005849  1.000000    -0.011016   \n",
              "estate_flag    0.002256  -0.014470 -0.029831 -0.011016     1.000000   \n",
              "terrace_flag   0.594304   0.415974  0.396510  0.005656     0.081675   \n",
              "new_flag       0.035459   0.158246  0.159454  0.012363     0.028634   \n",
              "serviced_flag  0.059701   0.103827  0.149259 -0.009595    -0.019682   \n",
              "\n",
              "               terrace_flag  new_flag  serviced_flag  \n",
              "bedrooms           0.594304  0.035459       0.059701  \n",
              "bathrooms          0.415974  0.158246       0.103827  \n",
              "toilets            0.396510  0.159454       0.149259  \n",
              "price              0.005656  0.012363      -0.009595  \n",
              "estate_flag        0.081675  0.028634      -0.019682  \n",
              "terrace_flag       1.000000  0.040726       0.028112  \n",
              "new_flag           0.040726  1.000000       0.091678  \n",
              "serviced_flag      0.028112  0.091678       1.000000  "
            ]
          },
          "execution_count": 19,
          "metadata": {},
          "output_type": "execute_result"
        }
      ],
      "source": [
        "corr"
      ]
    },
    {
      "cell_type": "code",
      "execution_count": null,
      "metadata": {
        "id": "YaAy4CsRFEYy",
        "outputId": "5d5d80d4-ff32-44d8-9fa6-8e9c556e3691"
      },
      "outputs": [
        {
          "data": {
            "text/plain": [
              "<matplotlib.axes._subplots.AxesSubplot at 0x189a18aa908>"
            ]
          },
          "execution_count": 20,
          "metadata": {},
          "output_type": "execute_result"
        },
        {
          "data": {
            "image/png": "[encoded data removed]",
            "text/plain": [
              "<Figure size 432x288 with 1 Axes>"
            ]
          },
          "metadata": {
            "needs_background": "light"
          },
          "output_type": "display_data"
        }
      ],
      "source": [
        "#Examine distribution of all houses to identify outliers\n",
        "train2['price'].plot(\"hist\")"
      ]
    },
    {
      "cell_type": "code",
      "execution_count": null,
      "metadata": {
        "id": "qfC3UduxFEY0",
        "outputId": "d791d58a-2b4e-43df-ecdd-ff799f90bab4"
      },
      "outputs": [
        {
          "data": {
            "text/plain": [
              "8000000.0"
            ]
          },
          "execution_count": 21,
          "metadata": {},
          "output_type": "execute_result"
        }
      ],
      "source": [
        "#Define a threshold based on percentile to avoid hardcoding\n",
        "threshold = np.percentile(train2['price'],90)\n",
        "threshold"
      ]
    },
    {
      "cell_type": "code",
      "execution_count": null,
      "metadata": {
        "id": "N8PnvpbcFEY2",
        "outputId": "0bcca289-60be-4033-88aa-2d1fb1b14ba8"
      },
      "outputs": [
        {
          "data": {
            "text/html": [
              "<div>\n",
              "<style scoped>\n",
              "    .dataframe tbody tr th:only-of-type {\n",
              "        vertical-align: middle;\n",
              "    }\n",
              "\n",
              "    .dataframe tbody tr th {\n",
              "        vertical-align: top;\n",
              "    }\n",
              "\n",
              "    .dataframe thead th {\n",
              "        text-align: right;\n",
              "    }\n",
              "</style>\n",
              "<table border=\"1\" class=\"dataframe\">\n",
              "  <thead>\n",
              "    <tr style=\"text-align: right;\">\n",
              "      <th></th>\n",
              "      <th>bedrooms</th>\n",
              "      <th>bathrooms</th>\n",
              "      <th>toilets</th>\n",
              "      <th>description</th>\n",
              "      <th>location</th>\n",
              "      <th>spec_location</th>\n",
              "      <th>price</th>\n",
              "      <th>estate_flag</th>\n",
              "      <th>terrace_flag</th>\n",
              "      <th>new_flag</th>\n",
              "      <th>serviced_flag</th>\n",
              "    </tr>\n",
              "  </thead>\n",
              "  <tbody>\n",
              "    <tr>\n",
              "      <th>1815</th>\n",
              "      <td>2</td>\n",
              "      <td>2.0</td>\n",
              "      <td>3.0</td>\n",
              "      <td>** Furnished 2 bedroom flat with excellent ser...</td>\n",
              "      <td>ikoyi</td>\n",
              "      <td>cameron green ikoyi lagos</td>\n",
              "      <td>8000000.0</td>\n",
              "      <td>0</td>\n",
              "      <td>0</td>\n",
              "      <td>1</td>\n",
              "      <td>1</td>\n",
              "    </tr>\n",
              "    <tr>\n",
              "      <th>1917</th>\n",
              "      <td>3</td>\n",
              "      <td>4.0</td>\n",
              "      <td>4.0</td>\n",
              "      <td>*3 BEDROOM WATERFRONT LUXURY APARTMENTS FOR SA...</td>\n",
              "      <td>ikoyi</td>\n",
              "      <td>banana island ikoyi lagos</td>\n",
              "      <td>8000000.0</td>\n",
              "      <td>0</td>\n",
              "      <td>1</td>\n",
              "      <td>1</td>\n",
              "      <td>1</td>\n",
              "    </tr>\n",
              "    <tr>\n",
              "      <th>1914</th>\n",
              "      <td>5</td>\n",
              "      <td>5.0</td>\n",
              "      <td>5.0</td>\n",
              "      <td>Luxurious and exquisitely finished 5bedroom de...</td>\n",
              "      <td>ikoyi</td>\n",
              "      <td>banana island ikoyi lagos</td>\n",
              "      <td>8000000.0</td>\n",
              "      <td>0</td>\n",
              "      <td>1</td>\n",
              "      <td>1</td>\n",
              "      <td>0</td>\n",
              "    </tr>\n",
              "    <tr>\n",
              "      <th>1390</th>\n",
              "      <td>4</td>\n",
              "      <td>4.0</td>\n",
              "      <td>5.0</td>\n",
              "      <td>A newly built four bedroom duplex in a private...</td>\n",
              "      <td>ikeja</td>\n",
              "      <td>mobolaji bank anthony way ikeja lagos</td>\n",
              "      <td>8000000.0</td>\n",
              "      <td>1</td>\n",
              "      <td>1</td>\n",
              "      <td>1</td>\n",
              "      <td>0</td>\n",
              "    </tr>\n",
              "    <tr>\n",
              "      <th>1397</th>\n",
              "      <td>5</td>\n",
              "      <td>5.0</td>\n",
              "      <td>6.0</td>\n",
              "      <td>Letting: Exquisitely finished 5 Bedroom Semi-d...</td>\n",
              "      <td>ikeja</td>\n",
              "      <td>ikeja gra ikeja lagos</td>\n",
              "      <td>8000000.0</td>\n",
              "      <td>0</td>\n",
              "      <td>1</td>\n",
              "      <td>1</td>\n",
              "      <td>0</td>\n",
              "    </tr>\n",
              "    <tr>\n",
              "      <th>1897</th>\n",
              "      <td>3</td>\n",
              "      <td>4.0</td>\n",
              "      <td>4.0</td>\n",
              "      <td>*3 BEDROOM WATERFRONT LUXURY APARTMENTS FOR SA...</td>\n",
              "      <td>ikoyi</td>\n",
              "      <td>banana island ikoyi lagos</td>\n",
              "      <td>8000000.0</td>\n",
              "      <td>0</td>\n",
              "      <td>1</td>\n",
              "      <td>1</td>\n",
              "      <td>1</td>\n",
              "    </tr>\n",
              "    <tr>\n",
              "      <th>3042</th>\n",
              "      <td>7</td>\n",
              "      <td>7.0</td>\n",
              "      <td>8.0</td>\n",
              "      <td>7bedroom fully detached duplex with 2rooms bq ...</td>\n",
              "      <td>lekki</td>\n",
              "      <td>lekki phase 1 lekki lagos</td>\n",
              "      <td>8000000.0</td>\n",
              "      <td>0</td>\n",
              "      <td>1</td>\n",
              "      <td>0</td>\n",
              "      <td>0</td>\n",
              "    </tr>\n",
              "    <tr>\n",
              "      <th>2165</th>\n",
              "      <td>3</td>\n",
              "      <td>3.0</td>\n",
              "      <td>4.0</td>\n",
              "      <td>FOR RENT Banana island Lagos 3 bedroom all roo...</td>\n",
              "      <td>ikoyi</td>\n",
              "      <td>residential zone banana island ikoyi lagos</td>\n",
              "      <td>8000000.0</td>\n",
              "      <td>0</td>\n",
              "      <td>0</td>\n",
              "      <td>1</td>\n",
              "      <td>1</td>\n",
              "    </tr>\n",
              "    <tr>\n",
              "      <th>4688</th>\n",
              "      <td>5</td>\n",
              "      <td>5.0</td>\n",
              "      <td>6.0</td>\n",
              "      <td>Spacious Commercial 5 Bedroom Semi Detached Du...</td>\n",
              "      <td>lekki</td>\n",
              "      <td>lekki phase 1 lekki lagos</td>\n",
              "      <td>8000000.0</td>\n",
              "      <td>0</td>\n",
              "      <td>1</td>\n",
              "      <td>0</td>\n",
              "      <td>0</td>\n",
              "    </tr>\n",
              "    <tr>\n",
              "      <th>1882</th>\n",
              "      <td>3</td>\n",
              "      <td>3.0</td>\n",
              "      <td>4.0</td>\n",
              "      <td>3 bedroom Flat / Apartment for rent Banana Isl...</td>\n",
              "      <td>ikoyi</td>\n",
              "      <td>banana island ikoyi lagos</td>\n",
              "      <td>8000000.0</td>\n",
              "      <td>0</td>\n",
              "      <td>0</td>\n",
              "      <td>1</td>\n",
              "      <td>1</td>\n",
              "    </tr>\n",
              "    <tr>\n",
              "      <th>1880</th>\n",
              "      <td>3</td>\n",
              "      <td>3.0</td>\n",
              "      <td>4.0</td>\n",
              "      <td>3 bedroom Flat / Apartment for rent Banana Isl...</td>\n",
              "      <td>ikoyi</td>\n",
              "      <td>banana island ikoyi lagos</td>\n",
              "      <td>8000000.0</td>\n",
              "      <td>0</td>\n",
              "      <td>0</td>\n",
              "      <td>1</td>\n",
              "      <td>1</td>\n",
              "    </tr>\n",
              "    <tr>\n",
              "      <th>2204</th>\n",
              "      <td>4</td>\n",
              "      <td>4.0</td>\n",
              "      <td>4.0</td>\n",
              "      <td>TO LET: Tastefully finished and spacious Units...</td>\n",
              "      <td>ikoyi</td>\n",
              "      <td>banana island ikoyi lagos</td>\n",
              "      <td>8000000.0</td>\n",
              "      <td>0</td>\n",
              "      <td>1</td>\n",
              "      <td>1</td>\n",
              "      <td>1</td>\n",
              "    </tr>\n",
              "    <tr>\n",
              "      <th>1879</th>\n",
              "      <td>4</td>\n",
              "      <td>4.0</td>\n",
              "      <td>5.0</td>\n",
              "      <td>Brand new and fully serviced 4 Bedroom Terrace...</td>\n",
              "      <td>ikoyi</td>\n",
              "      <td>ikoyi osborne foreshore estate ikoyi lagos</td>\n",
              "      <td>8000000.0</td>\n",
              "      <td>0</td>\n",
              "      <td>1</td>\n",
              "      <td>1</td>\n",
              "      <td>1</td>\n",
              "    </tr>\n",
              "    <tr>\n",
              "      <th>5098</th>\n",
              "      <td>5</td>\n",
              "      <td>5.0</td>\n",
              "      <td>6.0</td>\n",
              "      <td>1) Brand new luxury 5bedroom detached house wi...</td>\n",
              "      <td>lekki</td>\n",
              "      <td>lekki lekki phase 1 lekki lagos</td>\n",
              "      <td>8000000.0</td>\n",
              "      <td>0</td>\n",
              "      <td>1</td>\n",
              "      <td>1</td>\n",
              "      <td>0</td>\n",
              "    </tr>\n",
              "    <tr>\n",
              "      <th>4708</th>\n",
              "      <td>5</td>\n",
              "      <td>5.0</td>\n",
              "      <td>6.0</td>\n",
              "      <td>Spacious Commercial 5 Bedroom Semi Detached Du...</td>\n",
              "      <td>lekki</td>\n",
              "      <td>lekki phase 1 lekki lagos</td>\n",
              "      <td>8000000.0</td>\n",
              "      <td>0</td>\n",
              "      <td>1</td>\n",
              "      <td>0</td>\n",
              "      <td>0</td>\n",
              "    </tr>\n",
              "    <tr>\n",
              "      <th>1722</th>\n",
              "      <td>2</td>\n",
              "      <td>0.0</td>\n",
              "      <td>0.0</td>\n",
              "      <td>Two-bed apartment for rent at 8m, fully furnis...</td>\n",
              "      <td>ikoyi</td>\n",
              "      <td>reeve road, off glover road ikoyi lagos</td>\n",
              "      <td>8000000.0</td>\n",
              "      <td>0</td>\n",
              "      <td>0</td>\n",
              "      <td>0</td>\n",
              "      <td>0</td>\n",
              "    </tr>\n",
              "    <tr>\n",
              "      <th>2232</th>\n",
              "      <td>3</td>\n",
              "      <td>3.0</td>\n",
              "      <td>4.0</td>\n",
              "      <td>Block of luxury 3bedroom Flat with modern day ...</td>\n",
              "      <td>ikoyi</td>\n",
              "      <td>bandstand street banana island banana island i...</td>\n",
              "      <td>8000000.0</td>\n",
              "      <td>0</td>\n",
              "      <td>0</td>\n",
              "      <td>1</td>\n",
              "      <td>1</td>\n",
              "    </tr>\n",
              "    <tr>\n",
              "      <th>2156</th>\n",
              "      <td>4</td>\n",
              "      <td>4.0</td>\n",
              "      <td>5.0</td>\n",
              "      <td>A Luxury Serviced 4 Bedroom Terrace Duplex is ...</td>\n",
              "      <td>ikoyi</td>\n",
              "      <td>parkview estate ikoyi lagos</td>\n",
              "      <td>8000000.0</td>\n",
              "      <td>0</td>\n",
              "      <td>1</td>\n",
              "      <td>1</td>\n",
              "      <td>1</td>\n",
              "    </tr>\n",
              "    <tr>\n",
              "      <th>1919</th>\n",
              "      <td>3</td>\n",
              "      <td>4.0</td>\n",
              "      <td>4.0</td>\n",
              "      <td>Tastefully Finished, furnished and serviced 7 ...</td>\n",
              "      <td>ikoyi</td>\n",
              "      <td>bourdillon road, ikoyi lagos bourdillon ikoyi ...</td>\n",
              "      <td>8000000.0</td>\n",
              "      <td>0</td>\n",
              "      <td>0</td>\n",
              "      <td>1</td>\n",
              "      <td>1</td>\n",
              "    </tr>\n",
              "    <tr>\n",
              "      <th>1747</th>\n",
              "      <td>3</td>\n",
              "      <td>3.0</td>\n",
              "      <td>4.0</td>\n",
              "      <td>3 Bedroom Apartment, with a service quarters. ...</td>\n",
              "      <td>ikoyi</td>\n",
              "      <td>off alexandria road,old ikoyi ikoyi lagos</td>\n",
              "      <td>8000000.0</td>\n",
              "      <td>0</td>\n",
              "      <td>0</td>\n",
              "      <td>0</td>\n",
              "      <td>1</td>\n",
              "    </tr>\n",
              "    <tr>\n",
              "      <th>1920</th>\n",
              "      <td>4</td>\n",
              "      <td>4.0</td>\n",
              "      <td>5.0</td>\n",
              "      <td>Perfectly Furnished 4 Bedroom Terrace Duplex a...</td>\n",
              "      <td>ikoyi</td>\n",
              "      <td>happy haven estate banana island ikoyi lagos</td>\n",
              "      <td>8000000.0</td>\n",
              "      <td>1</td>\n",
              "      <td>1</td>\n",
              "      <td>1</td>\n",
              "      <td>1</td>\n",
              "    </tr>\n",
              "    <tr>\n",
              "      <th>3770</th>\n",
              "      <td>4</td>\n",
              "      <td>5.0</td>\n",
              "      <td>5.0</td>\n",
              "      <td>A Super Luxury and expatriate standard terrace...</td>\n",
              "      <td>lekki</td>\n",
              "      <td>lekki phase 1 lekki phase 1 lekki lagos</td>\n",
              "      <td>8000000.0</td>\n",
              "      <td>0</td>\n",
              "      <td>1</td>\n",
              "      <td>1</td>\n",
              "      <td>0</td>\n",
              "    </tr>\n",
              "    <tr>\n",
              "      <th>2059</th>\n",
              "      <td>5</td>\n",
              "      <td>0.0</td>\n",
              "      <td>0.0</td>\n",
              "      <td>5 bedroom Terrace for rent: Rent: 8M Location:...</td>\n",
              "      <td>ikoyi</td>\n",
              "      <td>#NAME?</td>\n",
              "      <td>8000000.0</td>\n",
              "      <td>0</td>\n",
              "      <td>1</td>\n",
              "      <td>0</td>\n",
              "      <td>1</td>\n",
              "    </tr>\n",
              "    <tr>\n",
              "      <th>476</th>\n",
              "      <td>6</td>\n",
              "      <td>6.0</td>\n",
              "      <td>6.0</td>\n",
              "      <td>Tastefully finished house all rooms ensuit all...</td>\n",
              "      <td>surulere</td>\n",
              "      <td>bode thomas street bode thomas surulere lagos</td>\n",
              "      <td>8000000.0</td>\n",
              "      <td>0</td>\n",
              "      <td>0</td>\n",
              "      <td>0</td>\n",
              "      <td>0</td>\n",
              "    </tr>\n",
              "    <tr>\n",
              "      <th>1627</th>\n",
              "      <td>3</td>\n",
              "      <td>4.0</td>\n",
              "      <td>4.0</td>\n",
              "      <td>For Lease Newly Built &amp; Tastefully finished 4 ...</td>\n",
              "      <td>ikeja</td>\n",
              "      <td>off adeniyi jones . ikeja adeniyi jones ikeja ...</td>\n",
              "      <td>8000000.0</td>\n",
              "      <td>0</td>\n",
              "      <td>0</td>\n",
              "      <td>1</td>\n",
              "      <td>0</td>\n",
              "    </tr>\n",
              "    <tr>\n",
              "      <th>3101</th>\n",
              "      <td>4</td>\n",
              "      <td>4.0</td>\n",
              "      <td>5.0</td>\n",
              "      <td>A newly built 4 bedroom terrace, with a servic...</td>\n",
              "      <td>lekki</td>\n",
              "      <td>off admiralty way lekki phase 1 lekki lagos</td>\n",
              "      <td>8000000.0</td>\n",
              "      <td>0</td>\n",
              "      <td>1</td>\n",
              "      <td>1</td>\n",
              "      <td>1</td>\n",
              "    </tr>\n",
              "    <tr>\n",
              "      <th>2030</th>\n",
              "      <td>3</td>\n",
              "      <td>3.0</td>\n",
              "      <td>4.0</td>\n",
              "      <td>A Unit of Fully Serviced Luxury 3 Bedroom Apar...</td>\n",
              "      <td>ikoyi</td>\n",
              "      <td>off kingsway (alfred rewane road) ikoyi lagos</td>\n",
              "      <td>8000000.0</td>\n",
              "      <td>0</td>\n",
              "      <td>0</td>\n",
              "      <td>1</td>\n",
              "      <td>1</td>\n",
              "    </tr>\n",
              "    <tr>\n",
              "      <th>1338</th>\n",
              "      <td>5</td>\n",
              "      <td>6.0</td>\n",
              "      <td>5.0</td>\n",
              "      <td>A newly built 5 bedroom duplex in a serene nei...</td>\n",
              "      <td>ikeja</td>\n",
              "      <td>remi fani kayode ikeja gra ikeja lagos</td>\n",
              "      <td>8000000.0</td>\n",
              "      <td>0</td>\n",
              "      <td>1</td>\n",
              "      <td>1</td>\n",
              "      <td>0</td>\n",
              "    </tr>\n",
              "    <tr>\n",
              "      <th>3663</th>\n",
              "      <td>5</td>\n",
              "      <td>5.0</td>\n",
              "      <td>5.0</td>\n",
              "      <td>FOR RENT!!! Brand New Exquisitely Built &amp; Very...</td>\n",
              "      <td>lekki</td>\n",
              "      <td>lekki phase 1 lekki lagos</td>\n",
              "      <td>8000000.0</td>\n",
              "      <td>0</td>\n",
              "      <td>1</td>\n",
              "      <td>1</td>\n",
              "      <td>0</td>\n",
              "    </tr>\n",
              "    <tr>\n",
              "      <th>2094</th>\n",
              "      <td>3</td>\n",
              "      <td>3.0</td>\n",
              "      <td>4.0</td>\n",
              "      <td>Luxury 3 bedroom all rooms ensuite apartment w...</td>\n",
              "      <td>ikoyi</td>\n",
              "      <td>banana island estate banana island ikoyi lagos</td>\n",
              "      <td>8000000.0</td>\n",
              "      <td>0</td>\n",
              "      <td>0</td>\n",
              "      <td>1</td>\n",
              "      <td>1</td>\n",
              "    </tr>\n",
              "    <tr>\n",
              "      <th>...</th>\n",
              "      <td>...</td>\n",
              "      <td>...</td>\n",
              "      <td>...</td>\n",
              "      <td>...</td>\n",
              "      <td>...</td>\n",
              "      <td>...</td>\n",
              "      <td>...</td>\n",
              "      <td>...</td>\n",
              "      <td>...</td>\n",
              "      <td>...</td>\n",
              "      <td>...</td>\n",
              "    </tr>\n",
              "    <tr>\n",
              "      <th>5099</th>\n",
              "      <td>3</td>\n",
              "      <td>3.0</td>\n",
              "      <td>4.0</td>\n",
              "      <td>Tastefully furnished and finished three bedroo...</td>\n",
              "      <td>lekki</td>\n",
              "      <td>no 1 abiola apooyin street, oral estate lekki ...</td>\n",
              "      <td>45000.0</td>\n",
              "      <td>1</td>\n",
              "      <td>0</td>\n",
              "      <td>0</td>\n",
              "      <td>0</td>\n",
              "    </tr>\n",
              "    <tr>\n",
              "      <th>5080</th>\n",
              "      <td>3</td>\n",
              "      <td>3.0</td>\n",
              "      <td>4.0</td>\n",
              "      <td>Tastefully furnished and finished three bedroo...</td>\n",
              "      <td>lekki</td>\n",
              "      <td>no 1 abiola apooyin street, oral estate lekki ...</td>\n",
              "      <td>45000.0</td>\n",
              "      <td>1</td>\n",
              "      <td>0</td>\n",
              "      <td>0</td>\n",
              "      <td>0</td>\n",
              "    </tr>\n",
              "    <tr>\n",
              "      <th>2908</th>\n",
              "      <td>1</td>\n",
              "      <td>1.0</td>\n",
              "      <td>2.0</td>\n",
              "      <td>1 bedroom mini flat Mini flat Flat / Apartment...</td>\n",
              "      <td>lekki</td>\n",
              "      <td>off freedom road lekki phase 1 lekki phase 1 l...</td>\n",
              "      <td>40000.0</td>\n",
              "      <td>0</td>\n",
              "      <td>0</td>\n",
              "      <td>1</td>\n",
              "      <td>0</td>\n",
              "    </tr>\n",
              "    <tr>\n",
              "      <th>923</th>\n",
              "      <td>1</td>\n",
              "      <td>1.0</td>\n",
              "      <td>1.0</td>\n",
              "      <td>Very spacious and nice single room self contai...</td>\n",
              "      <td>ikorodu</td>\n",
              "      <td>unity b/s bayeku road igbogbo ikorodu lagos</td>\n",
              "      <td>36000.0</td>\n",
              "      <td>0</td>\n",
              "      <td>0</td>\n",
              "      <td>0</td>\n",
              "      <td>0</td>\n",
              "    </tr>\n",
              "    <tr>\n",
              "      <th>1538</th>\n",
              "      <td>3</td>\n",
              "      <td>3.0</td>\n",
              "      <td>3.0</td>\n",
              "      <td>Features * 24 hours electricity * Unlimited wi...</td>\n",
              "      <td>ikeja</td>\n",
              "      <td>omole phase 2, omole phase 2 ikeja lagos</td>\n",
              "      <td>34000.0</td>\n",
              "      <td>1</td>\n",
              "      <td>0</td>\n",
              "      <td>0</td>\n",
              "      <td>0</td>\n",
              "    </tr>\n",
              "    <tr>\n",
              "      <th>3275</th>\n",
              "      <td>1</td>\n",
              "      <td>1.0</td>\n",
              "      <td>1.0</td>\n",
              "      <td>Well finished, furnished and serviced office s...</td>\n",
              "      <td>lekki</td>\n",
              "      <td>by marwa bustop (just immediately after lekki ...</td>\n",
              "      <td>33000.0</td>\n",
              "      <td>0</td>\n",
              "      <td>0</td>\n",
              "      <td>0</td>\n",
              "      <td>1</td>\n",
              "    </tr>\n",
              "    <tr>\n",
              "      <th>1438</th>\n",
              "      <td>3</td>\n",
              "      <td>2.0</td>\n",
              "      <td>2.0</td>\n",
              "      <td>Features * 24 hours electricity * Unlimited wi...</td>\n",
              "      <td>ikeja</td>\n",
              "      <td>omole phase 2 estate, ikeja, omole phase 2, ik...</td>\n",
              "      <td>30000.0</td>\n",
              "      <td>1</td>\n",
              "      <td>0</td>\n",
              "      <td>0</td>\n",
              "      <td>0</td>\n",
              "    </tr>\n",
              "    <tr>\n",
              "      <th>1401</th>\n",
              "      <td>2</td>\n",
              "      <td>2.0</td>\n",
              "      <td>3.0</td>\n",
              "      <td>Features * 24 hours electricity * Unlimited wi...</td>\n",
              "      <td>ikeja</td>\n",
              "      <td>omole phase 2 estate, omole phase 2 ikeja lagos</td>\n",
              "      <td>28000.0</td>\n",
              "      <td>1</td>\n",
              "      <td>0</td>\n",
              "      <td>0</td>\n",
              "      <td>0</td>\n",
              "    </tr>\n",
              "    <tr>\n",
              "      <th>1433</th>\n",
              "      <td>2</td>\n",
              "      <td>2.0</td>\n",
              "      <td>2.0</td>\n",
              "      <td>Features * 24 hours electricity * Unlimited wi...</td>\n",
              "      <td>ikeja</td>\n",
              "      <td>omole phase 2 estate, omole phase 2, ikeja lagos</td>\n",
              "      <td>27000.0</td>\n",
              "      <td>1</td>\n",
              "      <td>0</td>\n",
              "      <td>0</td>\n",
              "      <td>0</td>\n",
              "    </tr>\n",
              "    <tr>\n",
              "      <th>1335</th>\n",
              "      <td>0</td>\n",
              "      <td>0.0</td>\n",
              "      <td>4.0</td>\n",
              "      <td>Serviced open plan office space measuring 230 ...</td>\n",
              "      <td>ikeja</td>\n",
              "      <td>... allen avenue ikeja lagos</td>\n",
              "      <td>25000.0</td>\n",
              "      <td>0</td>\n",
              "      <td>0</td>\n",
              "      <td>0</td>\n",
              "      <td>1</td>\n",
              "    </tr>\n",
              "    <tr>\n",
              "      <th>1536</th>\n",
              "      <td>2</td>\n",
              "      <td>2.0</td>\n",
              "      <td>2.0</td>\n",
              "      <td>Features * 24 hours electricity * Unlimited wi...</td>\n",
              "      <td>ikeja</td>\n",
              "      <td>omole phase 2 estate, omole phase 2 ikeja lagos</td>\n",
              "      <td>25000.0</td>\n",
              "      <td>1</td>\n",
              "      <td>0</td>\n",
              "      <td>0</td>\n",
              "      <td>0</td>\n",
              "    </tr>\n",
              "    <tr>\n",
              "      <th>5032</th>\n",
              "      <td>1</td>\n",
              "      <td>1.0</td>\n",
              "      <td>1.0</td>\n",
              "      <td>Looking for a lovely 1 bedroom self contained ...</td>\n",
              "      <td>lekki</td>\n",
              "      <td>orchid estate ologolo lekki lagos</td>\n",
              "      <td>20000.0</td>\n",
              "      <td>0</td>\n",
              "      <td>0</td>\n",
              "      <td>0</td>\n",
              "      <td>1</td>\n",
              "    </tr>\n",
              "    <tr>\n",
              "      <th>5089</th>\n",
              "      <td>1</td>\n",
              "      <td>1.0</td>\n",
              "      <td>1.0</td>\n",
              "      <td>Full Furnished spacious one-bedroom apartment ...</td>\n",
              "      <td>lekki</td>\n",
              "      <td>off chevron drive, alternative route lekki pha...</td>\n",
              "      <td>20000.0</td>\n",
              "      <td>1</td>\n",
              "      <td>0</td>\n",
              "      <td>0</td>\n",
              "      <td>1</td>\n",
              "    </tr>\n",
              "    <tr>\n",
              "      <th>983</th>\n",
              "      <td>0</td>\n",
              "      <td>0.0</td>\n",
              "      <td>1.0</td>\n",
              "      <td>Its a spacious double shops facing the major e...</td>\n",
              "      <td>ikorodu</td>\n",
              "      <td>ipakodo road ebute ikorodu lagos</td>\n",
              "      <td>20000.0</td>\n",
              "      <td>0</td>\n",
              "      <td>0</td>\n",
              "      <td>0</td>\n",
              "      <td>0</td>\n",
              "    </tr>\n",
              "    <tr>\n",
              "      <th>1332</th>\n",
              "      <td>0</td>\n",
              "      <td>0.0</td>\n",
              "      <td>3.0</td>\n",
              "      <td>Open plan space of 145sq.m on the 2nd floor. P...</td>\n",
              "      <td>ikeja</td>\n",
              "      <td>salvation opebi ikeja lagos</td>\n",
              "      <td>20000.0</td>\n",
              "      <td>0</td>\n",
              "      <td>0</td>\n",
              "      <td>0</td>\n",
              "      <td>1</td>\n",
              "    </tr>\n",
              "    <tr>\n",
              "      <th>3921</th>\n",
              "      <td>1</td>\n",
              "      <td>1.0</td>\n",
              "      <td>1.0</td>\n",
              "      <td>Luxury studio apartment available for short le...</td>\n",
              "      <td>lekki</td>\n",
              "      <td>lekki palm city estate lekki phase 2 lekki lagos</td>\n",
              "      <td>15000.0</td>\n",
              "      <td>1</td>\n",
              "      <td>0</td>\n",
              "      <td>1</td>\n",
              "      <td>0</td>\n",
              "    </tr>\n",
              "    <tr>\n",
              "      <th>5033</th>\n",
              "      <td>1</td>\n",
              "      <td>1.0</td>\n",
              "      <td>1.0</td>\n",
              "      <td>This s a brand new serviced one roomself conta...</td>\n",
              "      <td>lekki</td>\n",
              "      <td>lekki lekki phase 1 lekki lagos</td>\n",
              "      <td>10000.0</td>\n",
              "      <td>0</td>\n",
              "      <td>0</td>\n",
              "      <td>1</td>\n",
              "      <td>1</td>\n",
              "    </tr>\n",
              "    <tr>\n",
              "      <th>4969</th>\n",
              "      <td>1</td>\n",
              "      <td>1.0</td>\n",
              "      <td>1.0</td>\n",
              "      <td>It is a mini flat for short stay , ... Furnish...</td>\n",
              "      <td>lekki</td>\n",
              "      <td>adeba street lekki phase 2 lekki lagos</td>\n",
              "      <td>3000.0</td>\n",
              "      <td>0</td>\n",
              "      <td>0</td>\n",
              "      <td>0</td>\n",
              "      <td>0</td>\n",
              "    </tr>\n",
              "    <tr>\n",
              "      <th>108</th>\n",
              "      <td>1</td>\n",
              "      <td>0.0</td>\n",
              "      <td>0.0</td>\n",
              "      <td>A room in a public compound to share toilet an...</td>\n",
              "      <td>gbagada</td>\n",
              "      <td>jesus street/imesi ifako gbagada gbagada lagos</td>\n",
              "      <td>3000.0</td>\n",
              "      <td>0</td>\n",
              "      <td>0</td>\n",
              "      <td>0</td>\n",
              "      <td>0</td>\n",
              "    </tr>\n",
              "    <tr>\n",
              "      <th>2359</th>\n",
              "      <td>2</td>\n",
              "      <td>2.0</td>\n",
              "      <td>3.0</td>\n",
              "      <td>Nice and Standard 2-bedroom apartment availabl...</td>\n",
              "      <td>ajah</td>\n",
              "      <td>cooperative villa badore ajah badore ajah lagos</td>\n",
              "      <td>750.0</td>\n",
              "      <td>1</td>\n",
              "      <td>0</td>\n",
              "      <td>0</td>\n",
              "      <td>0</td>\n",
              "    </tr>\n",
              "    <tr>\n",
              "      <th>1160</th>\n",
              "      <td>2</td>\n",
              "      <td>2.0</td>\n",
              "      <td>3.0</td>\n",
              "      <td>Newly built 2bedroom flat at obawole ogba insi...</td>\n",
              "      <td>ogba</td>\n",
              "      <td>obawole ifako ogba ogba lagos</td>\n",
              "      <td>700.0</td>\n",
              "      <td>1</td>\n",
              "      <td>0</td>\n",
              "      <td>1</td>\n",
              "      <td>0</td>\n",
              "    </tr>\n",
              "    <tr>\n",
              "      <th>1227</th>\n",
              "      <td>3</td>\n",
              "      <td>4.0</td>\n",
              "      <td>4.0</td>\n",
              "      <td>Executive 3 bedroom flat at Prime Garden estat...</td>\n",
              "      <td>iyanaipaja</td>\n",
              "      <td>prime garden estate aboru.lyana lpaja iyana ip...</td>\n",
              "      <td>650.0</td>\n",
              "      <td>1</td>\n",
              "      <td>0</td>\n",
              "      <td>1</td>\n",
              "      <td>0</td>\n",
              "    </tr>\n",
              "    <tr>\n",
              "      <th>303</th>\n",
              "      <td>1</td>\n",
              "      <td>1.0</td>\n",
              "      <td>1.0</td>\n",
              "      <td>Spacious miniflat at peace estate soluyi gbaga...</td>\n",
              "      <td>gbagada</td>\n",
              "      <td>peace estate soluyi gbagada lagos</td>\n",
              "      <td>400.0</td>\n",
              "      <td>1</td>\n",
              "      <td>0</td>\n",
              "      <td>0</td>\n",
              "      <td>0</td>\n",
              "    </tr>\n",
              "    <tr>\n",
              "      <th>1191</th>\n",
              "      <td>1</td>\n",
              "      <td>1.0</td>\n",
              "      <td>1.0</td>\n",
              "      <td>Lovely mini flat at Oke Ira ogba Lagos, for 37...</td>\n",
              "      <td>ogba</td>\n",
              "      <td>oke ira ogba lagos</td>\n",
              "      <td>370.0</td>\n",
              "      <td>1</td>\n",
              "      <td>0</td>\n",
              "      <td>0</td>\n",
              "      <td>0</td>\n",
              "    </tr>\n",
              "    <tr>\n",
              "      <th>871</th>\n",
              "      <td>3</td>\n",
              "      <td>3.0</td>\n",
              "      <td>4.0</td>\n",
              "      <td>Newly built 3 bedroom flat apartment all ensui...</td>\n",
              "      <td>ikorodu</td>\n",
              "      <td>isawo isawo ikorodu lagos</td>\n",
              "      <td>350.0</td>\n",
              "      <td>0</td>\n",
              "      <td>0</td>\n",
              "      <td>1</td>\n",
              "      <td>0</td>\n",
              "    </tr>\n",
              "    <tr>\n",
              "      <th>973</th>\n",
              "      <td>2</td>\n",
              "      <td>2.0</td>\n",
              "      <td>3.0</td>\n",
              "      <td>Its a newly built 2 nos of 2bedrooms flat in a...</td>\n",
              "      <td>ikorodu</td>\n",
              "      <td>grammar school ota ona ikorodu ikorodu lagos</td>\n",
              "      <td>350.0</td>\n",
              "      <td>1</td>\n",
              "      <td>0</td>\n",
              "      <td>1</td>\n",
              "      <td>0</td>\n",
              "    </tr>\n",
              "    <tr>\n",
              "      <th>872</th>\n",
              "      <td>2</td>\n",
              "      <td>2.0</td>\n",
              "      <td>3.0</td>\n",
              "      <td>Newly built 3 bedroom flat apartment all ensui...</td>\n",
              "      <td>ikorodu</td>\n",
              "      <td>isawo isawo ikorodu lagos</td>\n",
              "      <td>300.0</td>\n",
              "      <td>0</td>\n",
              "      <td>0</td>\n",
              "      <td>1</td>\n",
              "      <td>0</td>\n",
              "    </tr>\n",
              "    <tr>\n",
              "      <th>870</th>\n",
              "      <td>1</td>\n",
              "      <td>1.0</td>\n",
              "      <td>2.0</td>\n",
              "      <td>Newly built mini flat apartment at ikorodu Lag...</td>\n",
              "      <td>ikorodu</td>\n",
              "      <td>isawo isawo ikorodu lagos</td>\n",
              "      <td>250.0</td>\n",
              "      <td>0</td>\n",
              "      <td>0</td>\n",
              "      <td>1</td>\n",
              "      <td>0</td>\n",
              "    </tr>\n",
              "    <tr>\n",
              "      <th>302</th>\n",
              "      <td>1</td>\n",
              "      <td>1.0</td>\n",
              "      <td>1.0</td>\n",
              "      <td>Single self contain at soluyi peace estate pay...</td>\n",
              "      <td>gbagada</td>\n",
              "      <td>peace estate soluyi gbagada lagos</td>\n",
              "      <td>150.0</td>\n",
              "      <td>1</td>\n",
              "      <td>0</td>\n",
              "      <td>0</td>\n",
              "      <td>0</td>\n",
              "    </tr>\n",
              "    <tr>\n",
              "      <th>1228</th>\n",
              "      <td>4</td>\n",
              "      <td>5.0</td>\n",
              "      <td>5.0</td>\n",
              "      <td>TO LET,,,,, Superb 4 bedroom duplex all rooms ...</td>\n",
              "      <td>iyanaipaja</td>\n",
              "      <td>iyana lpaja beside nysc camp iyana ipaja ipaja...</td>\n",
              "      <td>1.0</td>\n",
              "      <td>1</td>\n",
              "      <td>1</td>\n",
              "      <td>1</td>\n",
              "      <td>0</td>\n",
              "    </tr>\n",
              "  </tbody>\n",
              "</table>\n",
              "<p>4488 rows × 11 columns</p>\n",
              "</div>"
            ],
            "text/plain": [
              "      bedrooms  bathrooms  toilets  \\\n",
              "1815         2        2.0      3.0   \n",
              "1917         3        4.0      4.0   \n",
              "1914         5        5.0      5.0   \n",
              "1390         4        4.0      5.0   \n",
              "1397         5        5.0      6.0   \n",
              "1897         3        4.0      4.0   \n",
              "3042         7        7.0      8.0   \n",
              "2165         3        3.0      4.0   \n",
              "4688         5        5.0      6.0   \n",
              "1882         3        3.0      4.0   \n",
              "1880         3        3.0      4.0   \n",
              "2204         4        4.0      4.0   \n",
              "1879         4        4.0      5.0   \n",
              "5098         5        5.0      6.0   \n",
              "4708         5        5.0      6.0   \n",
              "1722         2        0.0      0.0   \n",
              "2232         3        3.0      4.0   \n",
              "2156         4        4.0      5.0   \n",
              "1919         3        4.0      4.0   \n",
              "1747         3        3.0      4.0   \n",
              "1920         4        4.0      5.0   \n",
              "3770         4        5.0      5.0   \n",
              "2059         5        0.0      0.0   \n",
              "476          6        6.0      6.0   \n",
              "1627         3        4.0      4.0   \n",
              "3101         4        4.0      5.0   \n",
              "2030         3        3.0      4.0   \n",
              "1338         5        6.0      5.0   \n",
              "3663         5        5.0      5.0   \n",
              "2094         3        3.0      4.0   \n",
              "...        ...        ...      ...   \n",
              "5099         3        3.0      4.0   \n",
              "5080         3        3.0      4.0   \n",
              "2908         1        1.0      2.0   \n",
              "923          1        1.0      1.0   \n",
              "1538         3        3.0      3.0   \n",
              "3275         1        1.0      1.0   \n",
              "1438         3        2.0      2.0   \n",
              "1401         2        2.0      3.0   \n",
              "1433         2        2.0      2.0   \n",
              "1335         0        0.0      4.0   \n",
              "1536         2        2.0      2.0   \n",
              "5032         1        1.0      1.0   \n",
              "5089         1        1.0      1.0   \n",
              "983          0        0.0      1.0   \n",
              "1332         0        0.0      3.0   \n",
              "3921         1        1.0      1.0   \n",
              "5033         1        1.0      1.0   \n",
              "4969         1        1.0      1.0   \n",
              "108          1        0.0      0.0   \n",
              "2359         2        2.0      3.0   \n",
              "1160         2        2.0      3.0   \n",
              "1227         3        4.0      4.0   \n",
              "303          1        1.0      1.0   \n",
              "1191         1        1.0      1.0   \n",
              "871          3        3.0      4.0   \n",
              "973          2        2.0      3.0   \n",
              "872          2        2.0      3.0   \n",
              "870          1        1.0      2.0   \n",
              "302          1        1.0      1.0   \n",
              "1228         4        5.0      5.0   \n",
              "\n",
              "                                            description    location  \\\n",
              "1815  ** Furnished 2 bedroom flat with excellent ser...       ikoyi   \n",
              "1917  *3 BEDROOM WATERFRONT LUXURY APARTMENTS FOR SA...       ikoyi   \n",
              "1914  Luxurious and exquisitely finished 5bedroom de...       ikoyi   \n",
              "1390  A newly built four bedroom duplex in a private...       ikeja   \n",
              "1397  Letting: Exquisitely finished 5 Bedroom Semi-d...       ikeja   \n",
              "1897  *3 BEDROOM WATERFRONT LUXURY APARTMENTS FOR SA...       ikoyi   \n",
              "3042  7bedroom fully detached duplex with 2rooms bq ...       lekki   \n",
              "2165  FOR RENT Banana island Lagos 3 bedroom all roo...       ikoyi   \n",
              "4688  Spacious Commercial 5 Bedroom Semi Detached Du...       lekki   \n",
              "1882  3 bedroom Flat / Apartment for rent Banana Isl...       ikoyi   \n",
              "1880  3 bedroom Flat / Apartment for rent Banana Isl...       ikoyi   \n",
              "2204  TO LET: Tastefully finished and spacious Units...       ikoyi   \n",
              "1879  Brand new and fully serviced 4 Bedroom Terrace...       ikoyi   \n",
              "5098  1) Brand new luxury 5bedroom detached house wi...       lekki   \n",
              "4708  Spacious Commercial 5 Bedroom Semi Detached Du...       lekki   \n",
              "1722  Two-bed apartment for rent at 8m, fully furnis...       ikoyi   \n",
              "2232  Block of luxury 3bedroom Flat with modern day ...       ikoyi   \n",
              "2156  A Luxury Serviced 4 Bedroom Terrace Duplex is ...       ikoyi   \n",
              "1919  Tastefully Finished, furnished and serviced 7 ...       ikoyi   \n",
              "1747  3 Bedroom Apartment, with a service quarters. ...       ikoyi   \n",
              "1920  Perfectly Furnished 4 Bedroom Terrace Duplex a...       ikoyi   \n",
              "3770  A Super Luxury and expatriate standard terrace...       lekki   \n",
              "2059  5 bedroom Terrace for rent: Rent: 8M Location:...       ikoyi   \n",
              "476   Tastefully finished house all rooms ensuit all...    surulere   \n",
              "1627  For Lease Newly Built & Tastefully finished 4 ...       ikeja   \n",
              "3101  A newly built 4 bedroom terrace, with a servic...       lekki   \n",
              "2030  A Unit of Fully Serviced Luxury 3 Bedroom Apar...       ikoyi   \n",
              "1338  A newly built 5 bedroom duplex in a serene nei...       ikeja   \n",
              "3663  FOR RENT!!! Brand New Exquisitely Built & Very...       lekki   \n",
              "2094  Luxury 3 bedroom all rooms ensuite apartment w...       ikoyi   \n",
              "...                                                 ...         ...   \n",
              "5099  Tastefully furnished and finished three bedroo...       lekki   \n",
              "5080  Tastefully furnished and finished three bedroo...       lekki   \n",
              "2908  1 bedroom mini flat Mini flat Flat / Apartment...       lekki   \n",
              "923   Very spacious and nice single room self contai...     ikorodu   \n",
              "1538  Features * 24 hours electricity * Unlimited wi...       ikeja   \n",
              "3275  Well finished, furnished and serviced office s...       lekki   \n",
              "1438  Features * 24 hours electricity * Unlimited wi...       ikeja   \n",
              "1401  Features * 24 hours electricity * Unlimited wi...       ikeja   \n",
              "1433  Features * 24 hours electricity * Unlimited wi...       ikeja   \n",
              "1335  Serviced open plan office space measuring 230 ...       ikeja   \n",
              "1536  Features * 24 hours electricity * Unlimited wi...       ikeja   \n",
              "5032  Looking for a lovely 1 bedroom self contained ...       lekki   \n",
              "5089  Full Furnished spacious one-bedroom apartment ...       lekki   \n",
              "983   Its a spacious double shops facing the major e...     ikorodu   \n",
              "1332  Open plan space of 145sq.m on the 2nd floor. P...       ikeja   \n",
              "3921  Luxury studio apartment available for short le...       lekki   \n",
              "5033  This s a brand new serviced one roomself conta...       lekki   \n",
              "4969  It is a mini flat for short stay , ... Furnish...       lekki   \n",
              "108   A room in a public compound to share toilet an...     gbagada   \n",
              "2359  Nice and Standard 2-bedroom apartment availabl...        ajah   \n",
              "1160  Newly built 2bedroom flat at obawole ogba insi...        ogba   \n",
              "1227  Executive 3 bedroom flat at Prime Garden estat...  iyanaipaja   \n",
              "303   Spacious miniflat at peace estate soluyi gbaga...     gbagada   \n",
              "1191  Lovely mini flat at Oke Ira ogba Lagos, for 37...        ogba   \n",
              "871   Newly built 3 bedroom flat apartment all ensui...     ikorodu   \n",
              "973   Its a newly built 2 nos of 2bedrooms flat in a...     ikorodu   \n",
              "872   Newly built 3 bedroom flat apartment all ensui...     ikorodu   \n",
              "870   Newly built mini flat apartment at ikorodu Lag...     ikorodu   \n",
              "302   Single self contain at soluyi peace estate pay...     gbagada   \n",
              "1228  TO LET,,,,, Superb 4 bedroom duplex all rooms ...  iyanaipaja   \n",
              "\n",
              "                                          spec_location      price  \\\n",
              "1815                          cameron green ikoyi lagos  8000000.0   \n",
              "1917                          banana island ikoyi lagos  8000000.0   \n",
              "1914                          banana island ikoyi lagos  8000000.0   \n",
              "1390              mobolaji bank anthony way ikeja lagos  8000000.0   \n",
              "1397                              ikeja gra ikeja lagos  8000000.0   \n",
              "1897                          banana island ikoyi lagos  8000000.0   \n",
              "3042                          lekki phase 1 lekki lagos  8000000.0   \n",
              "2165         residential zone banana island ikoyi lagos  8000000.0   \n",
              "4688                          lekki phase 1 lekki lagos  8000000.0   \n",
              "1882                          banana island ikoyi lagos  8000000.0   \n",
              "1880                          banana island ikoyi lagos  8000000.0   \n",
              "2204                          banana island ikoyi lagos  8000000.0   \n",
              "1879         ikoyi osborne foreshore estate ikoyi lagos  8000000.0   \n",
              "5098                    lekki lekki phase 1 lekki lagos  8000000.0   \n",
              "4708                          lekki phase 1 lekki lagos  8000000.0   \n",
              "1722            reeve road, off glover road ikoyi lagos  8000000.0   \n",
              "2232  bandstand street banana island banana island i...  8000000.0   \n",
              "2156                        parkview estate ikoyi lagos  8000000.0   \n",
              "1919  bourdillon road, ikoyi lagos bourdillon ikoyi ...  8000000.0   \n",
              "1747          off alexandria road,old ikoyi ikoyi lagos  8000000.0   \n",
              "1920       happy haven estate banana island ikoyi lagos  8000000.0   \n",
              "3770            lekki phase 1 lekki phase 1 lekki lagos  8000000.0   \n",
              "2059                                             #NAME?  8000000.0   \n",
              "476       bode thomas street bode thomas surulere lagos  8000000.0   \n",
              "1627  off adeniyi jones . ikeja adeniyi jones ikeja ...  8000000.0   \n",
              "3101        off admiralty way lekki phase 1 lekki lagos  8000000.0   \n",
              "2030      off kingsway (alfred rewane road) ikoyi lagos  8000000.0   \n",
              "1338             remi fani kayode ikeja gra ikeja lagos  8000000.0   \n",
              "3663                          lekki phase 1 lekki lagos  8000000.0   \n",
              "2094     banana island estate banana island ikoyi lagos  8000000.0   \n",
              "...                                                 ...        ...   \n",
              "5099  no 1 abiola apooyin street, oral estate lekki ...    45000.0   \n",
              "5080  no 1 abiola apooyin street, oral estate lekki ...    45000.0   \n",
              "2908  off freedom road lekki phase 1 lekki phase 1 l...    40000.0   \n",
              "923         unity b/s bayeku road igbogbo ikorodu lagos    36000.0   \n",
              "1538           omole phase 2, omole phase 2 ikeja lagos    34000.0   \n",
              "3275  by marwa bustop (just immediately after lekki ...    33000.0   \n",
              "1438  omole phase 2 estate, ikeja, omole phase 2, ik...    30000.0   \n",
              "1401    omole phase 2 estate, omole phase 2 ikeja lagos    28000.0   \n",
              "1433   omole phase 2 estate, omole phase 2, ikeja lagos    27000.0   \n",
              "1335                       ... allen avenue ikeja lagos    25000.0   \n",
              "1536    omole phase 2 estate, omole phase 2 ikeja lagos    25000.0   \n",
              "5032                  orchid estate ologolo lekki lagos    20000.0   \n",
              "5089  off chevron drive, alternative route lekki pha...    20000.0   \n",
              "983                    ipakodo road ebute ikorodu lagos    20000.0   \n",
              "1332                        salvation opebi ikeja lagos    20000.0   \n",
              "3921   lekki palm city estate lekki phase 2 lekki lagos    15000.0   \n",
              "5033                    lekki lekki phase 1 lekki lagos    10000.0   \n",
              "4969             adeba street lekki phase 2 lekki lagos     3000.0   \n",
              "108      jesus street/imesi ifako gbagada gbagada lagos     3000.0   \n",
              "2359    cooperative villa badore ajah badore ajah lagos      750.0   \n",
              "1160                      obawole ifako ogba ogba lagos      700.0   \n",
              "1227  prime garden estate aboru.lyana lpaja iyana ip...      650.0   \n",
              "303                   peace estate soluyi gbagada lagos      400.0   \n",
              "1191                                 oke ira ogba lagos      370.0   \n",
              "871                           isawo isawo ikorodu lagos      350.0   \n",
              "973        grammar school ota ona ikorodu ikorodu lagos      350.0   \n",
              "872                           isawo isawo ikorodu lagos      300.0   \n",
              "870                           isawo isawo ikorodu lagos      250.0   \n",
              "302                   peace estate soluyi gbagada lagos      150.0   \n",
              "1228  iyana lpaja beside nysc camp iyana ipaja ipaja...        1.0   \n",
              "\n",
              "      estate_flag  terrace_flag  new_flag  serviced_flag  \n",
              "1815            0             0         1              1  \n",
              "1917            0             1         1              1  \n",
              "1914            0             1         1              0  \n",
              "1390            1             1         1              0  \n",
              "1397            0             1         1              0  \n",
              "1897            0             1         1              1  \n",
              "3042            0             1         0              0  \n",
              "2165            0             0         1              1  \n",
              "4688            0             1         0              0  \n",
              "1882            0             0         1              1  \n",
              "1880            0             0         1              1  \n",
              "2204            0             1         1              1  \n",
              "1879            0             1         1              1  \n",
              "5098            0             1         1              0  \n",
              "4708            0             1         0              0  \n",
              "1722            0             0         0              0  \n",
              "2232            0             0         1              1  \n",
              "2156            0             1         1              1  \n",
              "1919            0             0         1              1  \n",
              "1747            0             0         0              1  \n",
              "1920            1             1         1              1  \n",
              "3770            0             1         1              0  \n",
              "2059            0             1         0              1  \n",
              "476             0             0         0              0  \n",
              "1627            0             0         1              0  \n",
              "3101            0             1         1              1  \n",
              "2030            0             0         1              1  \n",
              "1338            0             1         1              0  \n",
              "3663            0             1         1              0  \n",
              "2094            0             0         1              1  \n",
              "...           ...           ...       ...            ...  \n",
              "5099            1             0         0              0  \n",
              "5080            1             0         0              0  \n",
              "2908            0             0         1              0  \n",
              "923             0             0         0              0  \n",
              "1538            1             0         0              0  \n",
              "3275            0             0         0              1  \n",
              "1438            1             0         0              0  \n",
              "1401            1             0         0              0  \n",
              "1433            1             0         0              0  \n",
              "1335            0             0         0              1  \n",
              "1536            1             0         0              0  \n",
              "5032            0             0         0              1  \n",
              "5089            1             0         0              1  \n",
              "983             0             0         0              0  \n",
              "1332            0             0         0              1  \n",
              "3921            1             0         1              0  \n",
              "5033            0             0         1              1  \n",
              "4969            0             0         0              0  \n",
              "108             0             0         0              0  \n",
              "2359            1             0         0              0  \n",
              "1160            1             0         1              0  \n",
              "1227            1             0         1              0  \n",
              "303             1             0         0              0  \n",
              "1191            1             0         0              0  \n",
              "871             0             0         1              0  \n",
              "973             1             0         1              0  \n",
              "872             0             0         1              0  \n",
              "870             0             0         1              0  \n",
              "302             1             0         0              0  \n",
              "1228            1             1         1              0  \n",
              "\n",
              "[4488 rows x 11 columns]"
            ]
          },
          "execution_count": 22,
          "metadata": {},
          "output_type": "execute_result"
        }
      ],
      "source": [
        "#Inspect prices greater than the threshold \n",
        "train2[train2['price']<=threshold].sort_values('price',ascending = False)"
      ]
    },
    {
      "cell_type": "code",
      "execution_count": null,
      "metadata": {
        "id": "iIJc_hqzFEY3"
      },
      "outputs": [],
      "source": [
        "#Notice that some of the houses are actually for sale \n",
        "#and not rent hence the reason for the high price"
      ]
    },
    {
      "cell_type": "code",
      "execution_count": null,
      "metadata": {
        "id": "kmlShGVCFEY4",
        "outputId": "b42da8c0-4b54-4c75-d0af-46eda231b343"
      },
      "outputs": [
        {
          "data": {
            "text/plain": [
              "<matplotlib.axes._subplots.AxesSubplot at 0x189a1674da0>"
            ]
          },
          "execution_count": 24,
          "metadata": {},
          "output_type": "execute_result"
        },
        {
          "data": {
            "image/png": "[encoded data removed]",
            "text/plain": [
              "<Figure size 432x288 with 1 Axes>"
            ]
          },
          "metadata": {
            "needs_background": "light"
          },
          "output_type": "display_data"
        }
      ],
      "source": [
        "#Examine distribution of all houses to identify outliers\n",
        "train2['price'][train2['price']<=threshold].plot(\"hist\")"
      ]
    },
    {
      "cell_type": "code",
      "execution_count": null,
      "metadata": {
        "id": "5ijOfSpVFEY5"
      },
      "outputs": [],
      "source": [
        "#Subset to eliminate outliers\n",
        "train2 = train2[train2['price']<=threshold]"
      ]
    },
    {
      "cell_type": "code",
      "execution_count": null,
      "metadata": {
        "id": "yafNLXEhFEY6",
        "outputId": "b93f8161-1902-4e5b-f069-cd2acb9c3bb7"
      },
      "outputs": [
        {
          "data": {
            "text/plain": [
              "(4488, 11)"
            ]
          },
          "execution_count": 26,
          "metadata": {},
          "output_type": "execute_result"
        }
      ],
      "source": [
        "#check shape\n",
        "train2.shape"
      ]
    },
    {
      "cell_type": "code",
      "execution_count": null,
      "metadata": {
        "id": "_W3ui4vuFEY7"
      },
      "outputs": [],
      "source": [
        ""
      ]
    },
    {
      "cell_type": "code",
      "execution_count": null,
      "metadata": {
        "id": "pK6aUtlhFEY7",
        "outputId": "cbceb2e2-8b9b-4d9f-fb6c-13856e8a3857"
      },
      "outputs": [
        {
          "data": {
            "text/plain": [
              "<matplotlib.axes._subplots.AxesSubplot at 0x189a1799a58>"
            ]
          },
          "execution_count": 27,
          "metadata": {},
          "output_type": "execute_result"
        },
        {
          "data": {
            "image/png": "[encoded data removed]",
            "text/plain": [
              "<Figure size 2160x504 with 3 Axes>"
            ]
          },
          "metadata": {
            "needs_background": "light"
          },
          "output_type": "display_data"
        }
      ],
      "source": [
        "#Inspect the distribution of houses per location and size of house\n",
        "locations = list(train2['location'].unique())\n",
        "\n",
        "import matplotlib.pyplot as plt\n",
        "fig = plt.figure(figsize=(30,7))\n",
        "fig.add_subplot(1, 3, 1)\n",
        "train2['price'][(train2['location']==locations[0])&(train2['bedrooms']==1)].plot(\"hist\")\n",
        "fig.add_subplot(1, 3, 2)\n",
        "train2['price'][(train2['location']==locations[1])&(train2['bedrooms']==1)].plot(\"hist\")\n",
        "fig.add_subplot(1, 3, 3)\n",
        "train2['price'][(train2['location']==locations[2])&(train2['bedrooms']==1)].plot(\"hist\")"
      ]
    },
    {
      "cell_type": "code",
      "execution_count": null,
      "metadata": {
        "id": "6zWE5bgJFEY9",
        "outputId": "5362b568-c6f1-4d04-8bf3-94388ac713e5"
      },
      "outputs": [
        {
          "data": {
            "text/plain": [
              "<matplotlib.axes._subplots.AxesSubplot at 0x189a1ad6668>"
            ]
          },
          "execution_count": 28,
          "metadata": {},
          "output_type": "execute_result"
        },
        {
          "data": {
            "image/png": "[encoded data removed]",
            "text/plain": [
              "<Figure size 2160x504 with 3 Axes>"
            ]
          },
          "metadata": {
            "needs_background": "light"
          },
          "output_type": "display_data"
        }
      ],
      "source": [
        "#Inspect the distribution of houses per location and size of house\n",
        "locations = list(train2['location'].unique())\n",
        "\n",
        "import matplotlib.pyplot as plt\n",
        "fig = plt.figure(figsize=(30,7))\n",
        "fig.add_subplot(1, 3, 1)\n",
        "train2['price'][(train2['location']==locations[6])&(train2['bedrooms']==1)].plot(\"hist\")\n",
        "fig.add_subplot(1, 3, 2)\n",
        "train2['price'][(train2['location']==locations[7])&(train2['bedrooms']==1)].plot(\"hist\")\n",
        "fig.add_subplot(1, 3, 3)\n",
        "train2['price'][(train2['location']==locations[8])&(train2['bedrooms']==1)].plot(\"hist\")"
      ]
    },
    {
      "cell_type": "code",
      "execution_count": null,
      "metadata": {
        "id": "vZVQGLOMFEY-",
        "outputId": "7de5c0b1-4b3d-4e9f-cf5d-d7c05191fbf7"
      },
      "outputs": [
        {
          "data": {
            "text/plain": [
              "<matplotlib.axes._subplots.AxesSubplot at 0x189a1ec2320>"
            ]
          },
          "execution_count": 29,
          "metadata": {},
          "output_type": "execute_result"
        },
        {
          "data": {
            "image/png": "[encoded data removed]",
            "text/plain": [
              "<Figure size 2160x504 with 1 Axes>"
            ]
          },
          "metadata": {
            "needs_background": "light"
          },
          "output_type": "display_data"
        }
      ],
      "source": [
        "#Inspect the distribution of houses per location and size of house\n",
        "locations = list(train2['location'].unique())\n",
        "\n",
        "import matplotlib.pyplot as plt\n",
        "fig = plt.figure(figsize=(30,7))\n",
        "#fig.add_subplot(1, 1, 1)\n",
        "train2['price'][(train2['location']==locations[9])&(train2['bedrooms']==1)].plot(\"hist\")"
      ]
    },
    {
      "cell_type": "code",
      "execution_count": null,
      "metadata": {
        "id": "0VI1_87hFEY_",
        "outputId": "55ef0d27-3d10-4f5b-a154-b7c37e732a71"
      },
      "outputs": [
        {
          "name": "stdout",
          "output_type": "stream",
          "text": [
            "This is the median for 1 bedroom in gbagada :  400000.0\n",
            "This is the median for 2 bedroom in gbagada :  800000.0\n",
            "This is the median for 3 bedroom in gbagada :  1300000.0\n",
            "This is the median for 4 bedroom in gbagada :  2000000.0\n",
            "This is the median for 5 bedroom in gbagada :  0\n",
            "This is the median for 1 bedroom in surulere :  500000.0\n",
            "This is the median for 2 bedroom in surulere :  750000.0\n",
            "This is the median for 3 bedroom in surulere :  1200000.0\n",
            "This is the median for 4 bedroom in surulere :  2500000.0\n",
            "This is the median for 5 bedroom in surulere :  3500000.0\n",
            "This is the median for 1 bedroom in yaba :  450000.0\n",
            "This is the median for 2 bedroom in yaba :  800000.0\n",
            "This is the median for 3 bedroom in yaba :  1300000.0\n",
            "This is the median for 4 bedroom in yaba :  2000000.0\n",
            "This is the median for 5 bedroom in yaba :  1750000.0\n",
            "This is the median for 1 bedroom in ikorodu :  120000.0\n",
            "This is the median for 2 bedroom in ikorodu :  250000.0\n",
            "This is the median for 3 bedroom in ikorodu :  300000.0\n",
            "This is the median for 4 bedroom in ikorodu :  550000.0\n",
            "This is the median for 5 bedroom in ikorodu :  0\n",
            "This is the median for 1 bedroom in ogba :  340000.0\n",
            "This is the median for 2 bedroom in ogba :  600000.0\n",
            "This is the median for 3 bedroom in ogba :  750000.0\n",
            "This is the median for 4 bedroom in ogba :  1650000.0\n",
            "This is the median for 5 bedroom in ogba :  2100000.0\n",
            "This is the median for 1 bedroom in iyanaipaja :  150000.0\n",
            "This is the median for 2 bedroom in iyanaipaja :  500000.0\n",
            "This is the median for 3 bedroom in iyanaipaja :  650000.0\n",
            "This is the median for 4 bedroom in iyanaipaja :  775000.0\n",
            "This is the median for 5 bedroom in iyanaipaja :  0\n",
            "This is the median for 1 bedroom in ikeja :  500000.0\n",
            "This is the median for 2 bedroom in ikeja :  1100000.0\n",
            "This is the median for 3 bedroom in ikeja :  2300000.0\n",
            "This is the median for 4 bedroom in ikeja :  5000000.0\n",
            "This is the median for 5 bedroom in ikeja :  5500000.0\n",
            "This is the median for 1 bedroom in ikoyi :  4000000.0\n",
            "This is the median for 2 bedroom in ikoyi :  5500000.0\n",
            "This is the median for 3 bedroom in ikoyi :  6000000.0\n",
            "This is the median for 4 bedroom in ikoyi :  6500000.0\n",
            "This is the median for 5 bedroom in ikoyi :  8000000.0\n",
            "This is the median for 1 bedroom in ajah :  400000.0\n",
            "This is the median for 2 bedroom in ajah :  800000.0\n",
            "This is the median for 3 bedroom in ajah :  1100000.0\n",
            "This is the median for 4 bedroom in ajah :  2000000.0\n",
            "This is the median for 5 bedroom in ajah :  2600000.0\n",
            "This is the median for 1 bedroom in lekki :  1000000.0\n",
            "This is the median for 2 bedroom in lekki :  1800000.0\n",
            "This is the median for 3 bedroom in lekki :  2500000.0\n",
            "This is the median for 4 bedroom in lekki :  3500000.0\n",
            "This is the median for 5 bedroom in lekki :  5000000.0\n"
          ]
        }
      ],
      "source": [
        "#Since some houses may have missing info it means some estate/serviced houses are not called estate/serviced houses. \n",
        "#Assumptions are made around houses which are not identified as estate/ service houses. \n",
        "#The median/50th percentile of those houses is identified and any house above the median is considered as estate.\n",
        "#Houses higher than 80th percentile are classified as serviced\n",
        "\n",
        "\n",
        "estate_price = []\n",
        "import numpy as np\n",
        "for location in locations:\n",
        "    for i in range(1,6):\n",
        "        d = {}\n",
        "        d['location'] = location\n",
        "        d['bedspace'] = i\n",
        "        try:\n",
        "            d['estate_price'] = np.percentile(train2['price'][(train2['location']==location)&(train2['bedrooms']==i)&(train2['estate_flag']==0)],50)\n",
        "            d['serviced_price'] = np.percentile(train2['price'][(train2['location']==location)&(train2['bedrooms']==i)&(train2['estate_flag']==0)],80)\n",
        "        except (IndexError,TypeError) as e:\n",
        "            d['serviced_price'] = 0\n",
        "            d['estate_price'] = 0\n",
        "        estate_price.append(d)\n",
        "        try:\n",
        "            print(\"This is the median for {bed} bedroom in {location} : \".format(bed = i,location = location) ,np.percentile(train2['price'][(train2['location']==location)&(train2['bedrooms']==i)&(train2['estate_flag']==0)],50))\n",
        "        except (IndexError,TypeError) as e:\n",
        "            print(\"This is the median for {bed} bedroom in {location} : \".format(bed = i,location = location) ,0)"
      ]
    },
    {
      "cell_type": "code",
      "execution_count": null,
      "metadata": {
        "id": "Ek_Q8AW0FEZA"
      },
      "outputs": [],
      "source": [
        "#save the output in a dataframe and in order to merge with original dataframe\n",
        "estate_price=pd.DataFrame(estate_price)\n",
        "estate_price['locationbed'] = estate_price['location'] + estate_price['bedspace'].astype(str)\n",
        "estate_price = estate_price.drop([\"location\",\"bedspace\"],axis=1)"
      ]
    },
    {
      "cell_type": "code",
      "execution_count": null,
      "metadata": {
        "id": "c4O6OlixFEZB"
      },
      "outputs": [],
      "source": [
        ""
      ]
    },
    {
      "cell_type": "code",
      "execution_count": null,
      "metadata": {
        "id": "kRq1H0CmFEZB",
        "outputId": "484538de-db23-4109-9c20-c34c5550cfeb"
      },
      "outputs": [
        {
          "data": {
            "text/html": [
              "<div>\n",
              "<style scoped>\n",
              "    .dataframe tbody tr th:only-of-type {\n",
              "        vertical-align: middle;\n",
              "    }\n",
              "\n",
              "    .dataframe tbody tr th {\n",
              "        vertical-align: top;\n",
              "    }\n",
              "\n",
              "    .dataframe thead th {\n",
              "        text-align: right;\n",
              "    }\n",
              "</style>\n",
              "<table border=\"1\" class=\"dataframe\">\n",
              "  <thead>\n",
              "    <tr style=\"text-align: right;\">\n",
              "      <th></th>\n",
              "      <th>estate_price</th>\n",
              "      <th>serviced_price</th>\n",
              "      <th>locationbed</th>\n",
              "    </tr>\n",
              "  </thead>\n",
              "  <tbody>\n",
              "    <tr>\n",
              "      <th>0</th>\n",
              "      <td>400000.0</td>\n",
              "      <td>560000.0</td>\n",
              "      <td>gbagada1</td>\n",
              "    </tr>\n",
              "    <tr>\n",
              "      <th>1</th>\n",
              "      <td>800000.0</td>\n",
              "      <td>1060000.0</td>\n",
              "      <td>gbagada2</td>\n",
              "    </tr>\n",
              "    <tr>\n",
              "      <th>2</th>\n",
              "      <td>1300000.0</td>\n",
              "      <td>1840000.0</td>\n",
              "      <td>gbagada3</td>\n",
              "    </tr>\n",
              "    <tr>\n",
              "      <th>3</th>\n",
              "      <td>2000000.0</td>\n",
              "      <td>2300000.0</td>\n",
              "      <td>gbagada4</td>\n",
              "    </tr>\n",
              "    <tr>\n",
              "      <th>4</th>\n",
              "      <td>0.0</td>\n",
              "      <td>0.0</td>\n",
              "      <td>gbagada5</td>\n",
              "    </tr>\n",
              "  </tbody>\n",
              "</table>\n",
              "</div>"
            ],
            "text/plain": [
              "   estate_price  serviced_price locationbed\n",
              "0      400000.0        560000.0    gbagada1\n",
              "1      800000.0       1060000.0    gbagada2\n",
              "2     1300000.0       1840000.0    gbagada3\n",
              "3     2000000.0       2300000.0    gbagada4\n",
              "4           0.0             0.0    gbagada5"
            ]
          },
          "execution_count": 32,
          "metadata": {},
          "output_type": "execute_result"
        }
      ],
      "source": [
        "estate_price.head()"
      ]
    },
    {
      "cell_type": "code",
      "execution_count": null,
      "metadata": {
        "id": "S9tKBfYiFEZC"
      },
      "outputs": [],
      "source": [
        "#merge to original dataframe to create new dataframe\n",
        "train2['locationbed']  = train2 ['location'] + train2 ['bedrooms'].astype(str)\n",
        "train3 = pd.merge(train2,estate_price, on =\"locationbed\", how = \"left\")"
      ]
    },
    {
      "cell_type": "code",
      "execution_count": null,
      "metadata": {
        "id": "QazeGBh-FEZD"
      },
      "outputs": [],
      "source": [
        "#identify estate houses that were not called estate houses by assigning houses greater than median as estate houses\n",
        "#identify serviced houses that were not called serviced houses by assigning houses greater than 80th percentile as serviced houses\n",
        "#terrace houses are typically greater than 1.8m based on distribution\n",
        "train3['estate_flag'][(train3['bedrooms']==1)&(train3['price'] > train3['estate_price'])] = 1\n",
        "train3['estate_flag'][(train3['bedrooms']==2)&(train3['price'] > train3['estate_price'])] = 1\n",
        "train3['estate_flag'][(train3['bedrooms']==3)&(train3['price'] > train3['estate_price'])] = 1\n",
        "train3['estate_flag'][(train3['bedrooms']==4)&(train3['price'] > train3['estate_price'])] = 1\n",
        "train3['estate_flag'][(train3['bedrooms']==5)&(train3['price'] > train3['estate_price'])] = 1\n",
        "train3['serviced_flag'][(train3['bedrooms']==1)&(train3['price'] > train3['serviced_price'])] = 1\n",
        "train3['serviced_flag'][(train3['bedrooms']==2)&(train3['price'] > train3['serviced_price'])] = 1\n",
        "train3['serviced_flag'][(train3['bedrooms']==3)&(train3['price'] > train3['serviced_price'])] = 1\n",
        "train3['serviced_flag'][(train3['bedrooms']==4)&(train3['price'] > train3['serviced_price'])] = 1\n",
        "train3['serviced_flag'][(train3['bedrooms']==5)&(train3['price'] > train3['serviced_price'])] = 1"
      ]
    },
    {
      "cell_type": "code",
      "execution_count": null,
      "metadata": {
        "id": "I3G83p-mFEZE",
        "outputId": "26cd8740-8f7f-4e14-d7bd-2cf15d578652"
      },
      "outputs": [
        {
          "data": {
            "text/plain": [
              "<matplotlib.axes._subplots.AxesSubplot at 0x189a2664a58>"
            ]
          },
          "execution_count": 35,
          "metadata": {},
          "output_type": "execute_result"
        },
        {
          "data": {
            "image/png": "[encoded data removed]",
            "text/plain": [
              "<Figure size 2160x504 with 2 Axes>"
            ]
          },
          "metadata": {
            "needs_background": "light"
          },
          "output_type": "display_data"
        }
      ],
      "source": [
        "#inspect houses that are terrace/duplex/detached to see if they are typically higher \n",
        "fig = plt.figure(figsize=(30,7))\n",
        "fig.add_subplot(1, 2, 1)\n",
        "train3['price'][train3['terrace_flag']==0].plot(\"hist\")\n",
        "fig.add_subplot(1, 2, 2)\n",
        "train3['price'][train3['terrace_flag']==1].plot(\"hist\")"
      ]
    },
    {
      "cell_type": "code",
      "execution_count": null,
      "metadata": {
        "id": "p_S993gNFEZF",
        "outputId": "2a0bf481-732d-44ba-de78-0f7081fc04dd"
      },
      "outputs": [
        {
          "name": "stdout",
          "output_type": "stream",
          "text": [
            "This is the median for a normal 2 bedroom in gbagada :  950000.0\n",
            "This is the median for a terraced 2 bedroom in gbagada :  2500000.0\n",
            "This is the median for a normal 3 bedroom in gbagada :  1500000.0\n",
            "This is the median for a terraced 3 bedroom in gbagada :  2000000.0\n",
            "This is the median for a normal 4 bedroom in gbagada :  0\n",
            "This is the median for a terraced 4 bedroom in gbagada :  2500000.0\n",
            "This is the median for a normal 5 bedroom in gbagada :  0\n",
            "This is the median for a terraced 5 bedroom in gbagada :  2400000.0\n",
            "This is the median for a normal 2 bedroom in surulere :  775000.0\n",
            "This is the median for a terraced 2 bedroom in surulere :  1600000.0\n",
            "This is the median for a normal 3 bedroom in surulere :  1200000.0\n",
            "This is the median for a terraced 3 bedroom in surulere :  2250000.0\n",
            "This is the median for a normal 4 bedroom in surulere :  2500000.0\n",
            "This is the median for a terraced 4 bedroom in surulere :  2500000.0\n",
            "This is the median for a normal 5 bedroom in surulere :  2000000.0\n",
            "This is the median for a terraced 5 bedroom in surulere :  3750000.0\n",
            "This is the median for a normal 2 bedroom in yaba :  800000.0\n",
            "This is the median for a terraced 2 bedroom in yaba :  0\n",
            "This is the median for a normal 3 bedroom in yaba :  1300000.0\n",
            "This is the median for a terraced 3 bedroom in yaba :  2500000.0\n",
            "This is the median for a normal 4 bedroom in yaba :  2000000.0\n",
            "This is the median for a terraced 4 bedroom in yaba :  3200000.0\n",
            "This is the median for a normal 5 bedroom in yaba :  1500000.0\n",
            "This is the median for a terraced 5 bedroom in yaba :  2000000.0\n",
            "This is the median for a normal 2 bedroom in ikorodu :  250000.0\n",
            "This is the median for a terraced 2 bedroom in ikorodu :  435000.0\n",
            "This is the median for a normal 3 bedroom in ikorodu :  350000.0\n",
            "This is the median for a terraced 3 bedroom in ikorodu :  500000.0\n",
            "This is the median for a normal 4 bedroom in ikorodu :  300000.0\n",
            "This is the median for a terraced 4 bedroom in ikorodu :  800000.0\n",
            "This is the median for a normal 5 bedroom in ikorodu :  0\n",
            "This is the median for a terraced 5 bedroom in ikorodu :  0\n",
            "This is the median for a normal 2 bedroom in ogba :  600000.0\n",
            "This is the median for a terraced 2 bedroom in ogba :  1200000.0\n",
            "This is the median for a normal 3 bedroom in ogba :  750000.0\n",
            "This is the median for a terraced 3 bedroom in ogba :  750000.0\n",
            "This is the median for a normal 4 bedroom in ogba :  2500000.0\n",
            "This is the median for a terraced 4 bedroom in ogba :  1800000.0\n",
            "This is the median for a normal 5 bedroom in ogba :  0\n",
            "This is the median for a terraced 5 bedroom in ogba :  2200000.0\n",
            "This is the median for a normal 2 bedroom in iyanaipaja :  500000.0\n",
            "This is the median for a terraced 2 bedroom in iyanaipaja :  0\n",
            "This is the median for a normal 3 bedroom in iyanaipaja :  650000.0\n",
            "This is the median for a terraced 3 bedroom in iyanaipaja :  0\n",
            "This is the median for a normal 4 bedroom in iyanaipaja :  1200000.0\n",
            "This is the median for a terraced 4 bedroom in iyanaipaja :  175000.5\n",
            "This is the median for a normal 5 bedroom in iyanaipaja :  0\n",
            "This is the median for a terraced 5 bedroom in iyanaipaja :  0\n",
            "This is the median for a normal 2 bedroom in ikeja :  1100000.0\n",
            "This is the median for a terraced 2 bedroom in ikeja :  1100000.0\n",
            "This is the median for a normal 3 bedroom in ikeja :  2000000.0\n",
            "This is the median for a terraced 3 bedroom in ikeja :  3500000.0\n",
            "This is the median for a normal 4 bedroom in ikeja :  3000000.0\n",
            "This is the median for a terraced 4 bedroom in ikeja :  5000000.0\n",
            "This is the median for a normal 5 bedroom in ikeja :  4000000.0\n",
            "This is the median for a terraced 5 bedroom in ikeja :  6000000.0\n",
            "This is the median for a normal 2 bedroom in ikoyi :  4500000.0\n",
            "This is the median for a terraced 2 bedroom in ikoyi :  6000000.0\n",
            "This is the median for a normal 3 bedroom in ikoyi :  5500000.0\n",
            "This is the median for a terraced 3 bedroom in ikoyi :  4500000.0\n",
            "This is the median for a normal 4 bedroom in ikoyi :  6000000.0\n",
            "This is the median for a terraced 4 bedroom in ikoyi :  6000000.0\n",
            "This is the median for a normal 5 bedroom in ikoyi :  5000000.0\n",
            "This is the median for a terraced 5 bedroom in ikoyi :  8000000.0\n",
            "This is the median for a normal 2 bedroom in ajah :  800000.0\n",
            "This is the median for a terraced 2 bedroom in ajah :  650000.0\n",
            "This is the median for a normal 3 bedroom in ajah :  1000000.0\n",
            "This is the median for a terraced 3 bedroom in ajah :  1500000.0\n",
            "This is the median for a normal 4 bedroom in ajah :  1800000.0\n",
            "This is the median for a terraced 4 bedroom in ajah :  2200000.0\n",
            "This is the median for a normal 5 bedroom in ajah :  2600000.0\n",
            "This is the median for a terraced 5 bedroom in ajah :  3000000.0\n",
            "This is the median for a normal 2 bedroom in lekki :  1800000.0\n",
            "This is the median for a terraced 2 bedroom in lekki :  2000000.0\n",
            "This is the median for a normal 3 bedroom in lekki :  2500000.0\n",
            "This is the median for a terraced 3 bedroom in lekki :  3000000.0\n",
            "This is the median for a normal 4 bedroom in lekki :  3500000.0\n",
            "This is the median for a terraced 4 bedroom in lekki :  3500000.0\n",
            "This is the median for a normal 5 bedroom in lekki :  4000000.0\n",
            "This is the median for a terraced 5 bedroom in lekki :  5000000.0\n"
          ]
        }
      ],
      "source": [
        "#check to find out if Terrace/duplex/detached houses are higher than normal houses on average\n",
        "for location in locations:\n",
        "    for i in range(2,6):\n",
        "        \n",
        "        try:\n",
        "            print(\"This is the median for a normal {bed} bedroom in {location} : \".format(bed = i,location = location) ,np.percentile(train2['price'][(train2['location']==location)&(train2['bedrooms']==i)&(train2['terrace_flag']==0)],50))\n",
        "        except (IndexError,TypeError) as e:\n",
        "            print(\"This is the median for a normal {bed} bedroom in {location} : \".format(bed = i,location = location) ,0)\n",
        "        try:\n",
        "            print(\"This is the median for a terraced {bed} bedroom in {location} : \".format(bed = i,location = location) ,np.percentile(train2['price'][(train2['location']==location)&(train2['bedrooms']==i)&(train2['terrace_flag']==1)],50))\n",
        "        except (IndexError,TypeError) as e:\n",
        "            print(\"This is the median for a terraced {bed} bedroom in {location} : \".format(bed = i,location = location) ,0)"
      ]
    },
    {
      "cell_type": "code",
      "execution_count": null,
      "metadata": {
        "id": "BvbmL4HIFEZH",
        "outputId": "01232d9d-c76e-42c4-bcf7-b969896c7729"
      },
      "outputs": [
        {
          "name": "stdout",
          "output_type": "stream",
          "text": [
            "This is the median for a terrace 2 bedroom in gbagada :  2500000.0\n",
            "This is the median for a terrace 3 bedroom in gbagada :  2000000.0\n",
            "This is the median for a terrace 4 bedroom in gbagada :  2500000.0\n",
            "This is the median for a terrace 5 bedroom in gbagada :  2400000.0\n",
            "This is the median for a terrace 2 bedroom in surulere :  1600000.0\n",
            "This is the median for a terrace 3 bedroom in surulere :  2250000.0\n",
            "This is the median for a terrace 4 bedroom in surulere :  2500000.0\n",
            "This is the median for a terrace 5 bedroom in surulere :  3750000.0\n",
            "This is the median for a terrace 2 bedroom in yaba :  0\n",
            "This is the median for a terrace 3 bedroom in yaba :  2500000.0\n",
            "This is the median for a terrace 4 bedroom in yaba :  3200000.0\n",
            "This is the median for a terrace 5 bedroom in yaba :  2000000.0\n",
            "This is the median for a terrace 2 bedroom in ikorodu :  435000.0\n",
            "This is the median for a terrace 3 bedroom in ikorodu :  500000.0\n",
            "This is the median for a terrace 4 bedroom in ikorodu :  800000.0\n",
            "This is the median for a terrace 5 bedroom in ikorodu :  0\n",
            "This is the median for a terrace 2 bedroom in ogba :  1200000.0\n",
            "This is the median for a terrace 3 bedroom in ogba :  750000.0\n",
            "This is the median for a terrace 4 bedroom in ogba :  1800000.0\n",
            "This is the median for a terrace 5 bedroom in ogba :  2200000.0\n",
            "This is the median for a terrace 2 bedroom in iyanaipaja :  0\n",
            "This is the median for a terrace 3 bedroom in iyanaipaja :  0\n",
            "This is the median for a terrace 4 bedroom in iyanaipaja :  175000.5\n",
            "This is the median for a terrace 5 bedroom in iyanaipaja :  0\n",
            "This is the median for a terrace 2 bedroom in ikeja :  1100000.0\n",
            "This is the median for a terrace 3 bedroom in ikeja :  3500000.0\n",
            "This is the median for a terrace 4 bedroom in ikeja :  5000000.0\n",
            "This is the median for a terrace 5 bedroom in ikeja :  6000000.0\n",
            "This is the median for a terrace 2 bedroom in ikoyi :  6000000.0\n",
            "This is the median for a terrace 3 bedroom in ikoyi :  4500000.0\n",
            "This is the median for a terrace 4 bedroom in ikoyi :  6000000.0\n",
            "This is the median for a terrace 5 bedroom in ikoyi :  8000000.0\n",
            "This is the median for a terrace 2 bedroom in ajah :  650000.0\n",
            "This is the median for a terrace 3 bedroom in ajah :  1500000.0\n",
            "This is the median for a terrace 4 bedroom in ajah :  2200000.0\n",
            "This is the median for a terrace 5 bedroom in ajah :  3000000.0\n",
            "This is the median for a terrace 2 bedroom in lekki :  2000000.0\n",
            "This is the median for a terrace 3 bedroom in lekki :  3000000.0\n",
            "This is the median for a terrace 4 bedroom in lekki :  3500000.0\n",
            "This is the median for a terrace 5 bedroom in lekki :  5000000.0\n"
          ]
        }
      ],
      "source": [
        "#The above shows that they are.\n",
        "#Since some houses may have missing info it means some terrace houses are not called terrace houses. \n",
        "#Assumptions are made around houses which are not identified as terrace houses. \n",
        "#The median/50th percentile of houses which are terrace is identified and any house = or above the median is considered terrace.\n",
        "\n",
        "terrace_price = []\n",
        "import numpy as np\n",
        "for location in locations:\n",
        "    for i in range(2,6):\n",
        "        d = {}\n",
        "        d['location'] = location\n",
        "        d['bedspace'] = i\n",
        "        try:\n",
        "            d['terrace_price'] = np.percentile(train2['price'][(train2['location']==location)&(train2['bedrooms']==i)&(train2['terrace_flag']==1)],50)    \n",
        "        except (IndexError,TypeError) as e:\n",
        "            d['terrace_price'] = 0\n",
        "        terrace_price.append(d)\n",
        "        try:\n",
        "            print(\"This is the median for a terrace {bed} bedroom in {location} : \".format(bed = i,location = location) ,np.percentile(train2['price'][(train2['location']==location)&(train2['bedrooms']==i)&(train2['terrace_flag']==1)],50))\n",
        "        except (IndexError,TypeError) as e:\n",
        "            print(\"This is the median for a terrace {bed} bedroom in {location} : \".format(bed = i,location = location) ,0)"
      ]
    },
    {
      "cell_type": "code",
      "execution_count": null,
      "metadata": {
        "id": "7dzsyyPFFEZI",
        "outputId": "b38e6987-bd02-45c8-86be-76eb5e521529"
      },
      "outputs": [
        {
          "data": {
            "text/html": [
              "<div>\n",
              "<style scoped>\n",
              "    .dataframe tbody tr th:only-of-type {\n",
              "        vertical-align: middle;\n",
              "    }\n",
              "\n",
              "    .dataframe tbody tr th {\n",
              "        vertical-align: top;\n",
              "    }\n",
              "\n",
              "    .dataframe thead th {\n",
              "        text-align: right;\n",
              "    }\n",
              "</style>\n",
              "<table border=\"1\" class=\"dataframe\">\n",
              "  <thead>\n",
              "    <tr style=\"text-align: right;\">\n",
              "      <th></th>\n",
              "      <th>terrace_price</th>\n",
              "      <th>locationbed</th>\n",
              "    </tr>\n",
              "  </thead>\n",
              "  <tbody>\n",
              "    <tr>\n",
              "      <th>0</th>\n",
              "      <td>2500000.0</td>\n",
              "      <td>gbagada2</td>\n",
              "    </tr>\n",
              "    <tr>\n",
              "      <th>1</th>\n",
              "      <td>2000000.0</td>\n",
              "      <td>gbagada3</td>\n",
              "    </tr>\n",
              "    <tr>\n",
              "      <th>2</th>\n",
              "      <td>2500000.0</td>\n",
              "      <td>gbagada4</td>\n",
              "    </tr>\n",
              "    <tr>\n",
              "      <th>3</th>\n",
              "      <td>2400000.0</td>\n",
              "      <td>gbagada5</td>\n",
              "    </tr>\n",
              "    <tr>\n",
              "      <th>4</th>\n",
              "      <td>1600000.0</td>\n",
              "      <td>surulere2</td>\n",
              "    </tr>\n",
              "  </tbody>\n",
              "</table>\n",
              "</div>"
            ],
            "text/plain": [
              "   terrace_price locationbed\n",
              "0      2500000.0    gbagada2\n",
              "1      2000000.0    gbagada3\n",
              "2      2500000.0    gbagada4\n",
              "3      2400000.0    gbagada5\n",
              "4      1600000.0   surulere2"
            ]
          },
          "execution_count": 38,
          "metadata": {},
          "output_type": "execute_result"
        }
      ],
      "source": [
        "#save the output in a dataframe and in order to merge with original dataframe\n",
        "terrace_price=pd.DataFrame(terrace_price)\n",
        "terrace_price['locationbed'] = terrace_price['location'] + terrace_price['bedspace'].astype(str)\n",
        "terrace_price = terrace_price.drop([\"location\",\"bedspace\"],axis=1)\n",
        "terrace_price.head()"
      ]
    },
    {
      "cell_type": "code",
      "execution_count": null,
      "metadata": {
        "id": "Qxhan2nnFEZJ"
      },
      "outputs": [],
      "source": [
        "#merge to original dataframe to create new dataframe\n",
        "train3 = pd.merge(train3,terrace_price, on =\"locationbed\", how = \"left\")"
      ]
    },
    {
      "cell_type": "code",
      "execution_count": null,
      "metadata": {
        "id": "L7UQfgQBFEZK"
      },
      "outputs": [],
      "source": [
        "#identify terrace houses that were not called terrace houses by assigning houses greater than median as terrace houses\n",
        "#Terrace housese are typically from 2 bedroom\n",
        "train3['terrace_flag'][(train3['bedrooms']==2)&(train3['price'] > train3['terrace_price'])] = 1\n",
        "train3['terrace_flag'][(train3['bedrooms']==3)&(train3['price'] > train3['terrace_price'])] = 1\n",
        "train3['terrace_flag'][(train3['bedrooms']==4)&(train3['price'] > train3['terrace_price'])] = 1\n",
        "train3['terrace_flag'][(train3['bedrooms']==5)&(train3['price'] > train3['terrace_price'])] = 1"
      ]
    },
    {
      "cell_type": "code",
      "execution_count": null,
      "metadata": {
        "id": "JL8NSejVFEZL",
        "outputId": "14b6b2c5-ce05-421f-a01b-d6e8b1d934d2"
      },
      "outputs": [
        {
          "data": {
            "text/html": [
              "<div>\n",
              "<style scoped>\n",
              "    .dataframe tbody tr th:only-of-type {\n",
              "        vertical-align: middle;\n",
              "    }\n",
              "\n",
              "    .dataframe tbody tr th {\n",
              "        vertical-align: top;\n",
              "    }\n",
              "\n",
              "    .dataframe thead th {\n",
              "        text-align: right;\n",
              "    }\n",
              "</style>\n",
              "<table border=\"1\" class=\"dataframe\">\n",
              "  <thead>\n",
              "    <tr style=\"text-align: right;\">\n",
              "      <th></th>\n",
              "      <th>location_rank</th>\n",
              "      <th>locationbed</th>\n",
              "    </tr>\n",
              "  </thead>\n",
              "  <tbody>\n",
              "    <tr>\n",
              "      <th>22</th>\n",
              "      <td>1</td>\n",
              "      <td>ikorodu0</td>\n",
              "    </tr>\n",
              "    <tr>\n",
              "      <th>23</th>\n",
              "      <td>2</td>\n",
              "      <td>ikorodu1</td>\n",
              "    </tr>\n",
              "    <tr>\n",
              "      <th>33</th>\n",
              "      <td>3</td>\n",
              "      <td>iyanaipaja1</td>\n",
              "    </tr>\n",
              "    <tr>\n",
              "      <th>24</th>\n",
              "      <td>4</td>\n",
              "      <td>ikorodu2</td>\n",
              "    </tr>\n",
              "    <tr>\n",
              "      <th>7</th>\n",
              "      <td>5</td>\n",
              "      <td>gbagada0</td>\n",
              "    </tr>\n",
              "    <tr>\n",
              "      <th>46</th>\n",
              "      <td>6</td>\n",
              "      <td>ogba1</td>\n",
              "    </tr>\n",
              "    <tr>\n",
              "      <th>59</th>\n",
              "      <td>7</td>\n",
              "      <td>yaba0</td>\n",
              "    </tr>\n",
              "    <tr>\n",
              "      <th>36</th>\n",
              "      <td>9</td>\n",
              "      <td>iyanaipaja4</td>\n",
              "    </tr>\n",
              "    <tr>\n",
              "      <th>25</th>\n",
              "      <td>9</td>\n",
              "      <td>ikorodu3</td>\n",
              "    </tr>\n",
              "    <tr>\n",
              "      <th>8</th>\n",
              "      <td>9</td>\n",
              "      <td>gbagada1</td>\n",
              "    </tr>\n",
              "    <tr>\n",
              "      <th>0</th>\n",
              "      <td>11</td>\n",
              "      <td>ajah1</td>\n",
              "    </tr>\n",
              "    <tr>\n",
              "      <th>60</th>\n",
              "      <td>12</td>\n",
              "      <td>yaba1</td>\n",
              "    </tr>\n",
              "    <tr>\n",
              "      <th>34</th>\n",
              "      <td>13</td>\n",
              "      <td>iyanaipaja2</td>\n",
              "    </tr>\n",
              "    <tr>\n",
              "      <th>52</th>\n",
              "      <td>13</td>\n",
              "      <td>surulere1</td>\n",
              "    </tr>\n",
              "    <tr>\n",
              "      <th>14</th>\n",
              "      <td>15</td>\n",
              "      <td>ikeja1</td>\n",
              "    </tr>\n",
              "    <tr>\n",
              "      <th>26</th>\n",
              "      <td>16</td>\n",
              "      <td>ikorodu4</td>\n",
              "    </tr>\n",
              "    <tr>\n",
              "      <th>47</th>\n",
              "      <td>17</td>\n",
              "      <td>ogba2</td>\n",
              "    </tr>\n",
              "    <tr>\n",
              "      <th>35</th>\n",
              "      <td>18</td>\n",
              "      <td>iyanaipaja3</td>\n",
              "    </tr>\n",
              "    <tr>\n",
              "      <th>37</th>\n",
              "      <td>19</td>\n",
              "      <td>lekki0</td>\n",
              "    </tr>\n",
              "    <tr>\n",
              "      <th>48</th>\n",
              "      <td>20</td>\n",
              "      <td>ogba3</td>\n",
              "    </tr>\n",
              "    <tr>\n",
              "      <th>51</th>\n",
              "      <td>22</td>\n",
              "      <td>surulere0</td>\n",
              "    </tr>\n",
              "    <tr>\n",
              "      <th>61</th>\n",
              "      <td>22</td>\n",
              "      <td>yaba2</td>\n",
              "    </tr>\n",
              "    <tr>\n",
              "      <th>1</th>\n",
              "      <td>22</td>\n",
              "      <td>ajah2</td>\n",
              "    </tr>\n",
              "    <tr>\n",
              "      <th>53</th>\n",
              "      <td>22</td>\n",
              "      <td>surulere2</td>\n",
              "    </tr>\n",
              "    <tr>\n",
              "      <th>38</th>\n",
              "      <td>25</td>\n",
              "      <td>lekki1</td>\n",
              "    </tr>\n",
              "    <tr>\n",
              "      <th>9</th>\n",
              "      <td>26</td>\n",
              "      <td>gbagada2</td>\n",
              "    </tr>\n",
              "    <tr>\n",
              "      <th>2</th>\n",
              "      <td>27</td>\n",
              "      <td>ajah3</td>\n",
              "    </tr>\n",
              "    <tr>\n",
              "      <th>15</th>\n",
              "      <td>27</td>\n",
              "      <td>ikeja2</td>\n",
              "    </tr>\n",
              "    <tr>\n",
              "      <th>54</th>\n",
              "      <td>29</td>\n",
              "      <td>surulere3</td>\n",
              "    </tr>\n",
              "    <tr>\n",
              "      <th>62</th>\n",
              "      <td>30</td>\n",
              "      <td>yaba3</td>\n",
              "    </tr>\n",
              "    <tr>\n",
              "      <th>...</th>\n",
              "      <td>...</td>\n",
              "      <td>...</td>\n",
              "    </tr>\n",
              "    <tr>\n",
              "      <th>16</th>\n",
              "      <td>38</td>\n",
              "      <td>ikeja3</td>\n",
              "    </tr>\n",
              "    <tr>\n",
              "      <th>3</th>\n",
              "      <td>38</td>\n",
              "      <td>ajah4</td>\n",
              "    </tr>\n",
              "    <tr>\n",
              "      <th>50</th>\n",
              "      <td>40</td>\n",
              "      <td>ogba5</td>\n",
              "    </tr>\n",
              "    <tr>\n",
              "      <th>12</th>\n",
              "      <td>41</td>\n",
              "      <td>gbagada5</td>\n",
              "    </tr>\n",
              "    <tr>\n",
              "      <th>55</th>\n",
              "      <td>43</td>\n",
              "      <td>surulere4</td>\n",
              "    </tr>\n",
              "    <tr>\n",
              "      <th>11</th>\n",
              "      <td>43</td>\n",
              "      <td>gbagada4</td>\n",
              "    </tr>\n",
              "    <tr>\n",
              "      <th>5</th>\n",
              "      <td>43</td>\n",
              "      <td>ajah6</td>\n",
              "    </tr>\n",
              "    <tr>\n",
              "      <th>40</th>\n",
              "      <td>43</td>\n",
              "      <td>lekki3</td>\n",
              "    </tr>\n",
              "    <tr>\n",
              "      <th>57</th>\n",
              "      <td>46</td>\n",
              "      <td>surulere6</td>\n",
              "    </tr>\n",
              "    <tr>\n",
              "      <th>63</th>\n",
              "      <td>47</td>\n",
              "      <td>yaba4</td>\n",
              "    </tr>\n",
              "    <tr>\n",
              "      <th>6</th>\n",
              "      <td>49</td>\n",
              "      <td>ajah7</td>\n",
              "    </tr>\n",
              "    <tr>\n",
              "      <th>4</th>\n",
              "      <td>49</td>\n",
              "      <td>ajah5</td>\n",
              "    </tr>\n",
              "    <tr>\n",
              "      <th>27</th>\n",
              "      <td>49</td>\n",
              "      <td>ikorodu9</td>\n",
              "    </tr>\n",
              "    <tr>\n",
              "      <th>66</th>\n",
              "      <td>49</td>\n",
              "      <td>yaba8</td>\n",
              "    </tr>\n",
              "    <tr>\n",
              "      <th>41</th>\n",
              "      <td>52</td>\n",
              "      <td>lekki4</td>\n",
              "    </tr>\n",
              "    <tr>\n",
              "      <th>56</th>\n",
              "      <td>52</td>\n",
              "      <td>surulere5</td>\n",
              "    </tr>\n",
              "    <tr>\n",
              "      <th>21</th>\n",
              "      <td>54</td>\n",
              "      <td>ikeja8</td>\n",
              "    </tr>\n",
              "    <tr>\n",
              "      <th>58</th>\n",
              "      <td>55</td>\n",
              "      <td>surulere9</td>\n",
              "    </tr>\n",
              "    <tr>\n",
              "      <th>17</th>\n",
              "      <td>55</td>\n",
              "      <td>ikeja4</td>\n",
              "    </tr>\n",
              "    <tr>\n",
              "      <th>29</th>\n",
              "      <td>57</td>\n",
              "      <td>ikoyi2</td>\n",
              "    </tr>\n",
              "    <tr>\n",
              "      <th>19</th>\n",
              "      <td>57</td>\n",
              "      <td>ikeja6</td>\n",
              "    </tr>\n",
              "    <tr>\n",
              "      <th>42</th>\n",
              "      <td>60</td>\n",
              "      <td>lekki5</td>\n",
              "    </tr>\n",
              "    <tr>\n",
              "      <th>45</th>\n",
              "      <td>60</td>\n",
              "      <td>lekki8</td>\n",
              "    </tr>\n",
              "    <tr>\n",
              "      <th>30</th>\n",
              "      <td>60</td>\n",
              "      <td>ikoyi3</td>\n",
              "    </tr>\n",
              "    <tr>\n",
              "      <th>18</th>\n",
              "      <td>62</td>\n",
              "      <td>ikeja5</td>\n",
              "    </tr>\n",
              "    <tr>\n",
              "      <th>31</th>\n",
              "      <td>63</td>\n",
              "      <td>ikoyi4</td>\n",
              "    </tr>\n",
              "    <tr>\n",
              "      <th>20</th>\n",
              "      <td>64</td>\n",
              "      <td>ikeja7</td>\n",
              "    </tr>\n",
              "    <tr>\n",
              "      <th>43</th>\n",
              "      <td>65</td>\n",
              "      <td>lekki6</td>\n",
              "    </tr>\n",
              "    <tr>\n",
              "      <th>44</th>\n",
              "      <td>66</td>\n",
              "      <td>lekki7</td>\n",
              "    </tr>\n",
              "    <tr>\n",
              "      <th>32</th>\n",
              "      <td>67</td>\n",
              "      <td>ikoyi5</td>\n",
              "    </tr>\n",
              "  </tbody>\n",
              "</table>\n",
              "<p>67 rows × 2 columns</p>\n",
              "</div>"
            ],
            "text/plain": [
              "    location_rank  locationbed\n",
              "22              1     ikorodu0\n",
              "23              2     ikorodu1\n",
              "33              3  iyanaipaja1\n",
              "24              4     ikorodu2\n",
              "7               5     gbagada0\n",
              "46              6        ogba1\n",
              "59              7        yaba0\n",
              "36              9  iyanaipaja4\n",
              "25              9     ikorodu3\n",
              "8               9     gbagada1\n",
              "0              11        ajah1\n",
              "60             12        yaba1\n",
              "34             13  iyanaipaja2\n",
              "52             13    surulere1\n",
              "14             15       ikeja1\n",
              "26             16     ikorodu4\n",
              "47             17        ogba2\n",
              "35             18  iyanaipaja3\n",
              "37             19       lekki0\n",
              "48             20        ogba3\n",
              "51             22    surulere0\n",
              "61             22        yaba2\n",
              "1              22        ajah2\n",
              "53             22    surulere2\n",
              "38             25       lekki1\n",
              "9              26     gbagada2\n",
              "2              27        ajah3\n",
              "15             27       ikeja2\n",
              "54             29    surulere3\n",
              "62             30        yaba3\n",
              "..            ...          ...\n",
              "16             38       ikeja3\n",
              "3              38        ajah4\n",
              "50             40        ogba5\n",
              "12             41     gbagada5\n",
              "55             43    surulere4\n",
              "11             43     gbagada4\n",
              "5              43        ajah6\n",
              "40             43       lekki3\n",
              "57             46    surulere6\n",
              "63             47        yaba4\n",
              "6              49        ajah7\n",
              "4              49        ajah5\n",
              "27             49     ikorodu9\n",
              "66             49        yaba8\n",
              "41             52       lekki4\n",
              "56             52    surulere5\n",
              "21             54       ikeja8\n",
              "58             55    surulere9\n",
              "17             55       ikeja4\n",
              "29             57       ikoyi2\n",
              "19             57       ikeja6\n",
              "42             60       lekki5\n",
              "45             60       lekki8\n",
              "30             60       ikoyi3\n",
              "18             62       ikeja5\n",
              "31             63       ikoyi4\n",
              "20             64       ikeja7\n",
              "43             65       lekki6\n",
              "44             66       lekki7\n",
              "32             67       ikoyi5\n",
              "\n",
              "[67 rows x 2 columns]"
            ]
          },
          "execution_count": 41,
          "metadata": {},
          "output_type": "execute_result"
        }
      ],
      "source": [
        "#Location is not giving the best results as a feature, however merging location and number of beds and ranking that \n",
        "#gives your model a better and stronger feature because the lower the rank, the lower the price.\n",
        "g = train3.groupby(['location','bedrooms'])['price'].median().reset_index().sort_values('price')\n",
        "g['location_rank']= g['price'].rank()#np.linspace(1,14,14)\n",
        "g['location_rank'] = g['location_rank'].astype(int)\n",
        "g['locationbed'] = g['location'] + g ['bedrooms'].astype(str)\n",
        "g = g.drop([\"price\",\"location\",\"bedrooms\"],axis=1)\n",
        "g\n",
        "#.columns"
      ]
    },
    {
      "cell_type": "code",
      "execution_count": null,
      "metadata": {
        "id": "4YSgs6vKFEZM"
      },
      "outputs": [],
      "source": [
        "#merge to dataframe\n",
        "train3 = pd.merge(train3,g, on =\"locationbed\", how = \"left\")"
      ]
    },
    {
      "cell_type": "code",
      "execution_count": null,
      "metadata": {
        "id": "pWq5ge5DFEZN",
        "outputId": "8b6ef967-f8d8-491f-8cab-c7d96223f5e5"
      },
      "outputs": [
        {
          "data": {
            "text/plain": [
              "(4488, 16)"
            ]
          },
          "execution_count": 43,
          "metadata": {},
          "output_type": "execute_result"
        }
      ],
      "source": [
        "train3.shape"
      ]
    },
    {
      "cell_type": "code",
      "execution_count": null,
      "metadata": {
        "id": "1Hdd8KGQFEZO",
        "outputId": "e6491969-b7bc-4b39-fcaf-a40f625839e4"
      },
      "outputs": [
        {
          "data": {
            "text/plain": [
              "Index(['bedrooms', 'bathrooms', 'toilets', 'description', 'location',\n",
              "       'spec_location', 'price', 'estate_flag', 'terrace_flag', 'new_flag',\n",
              "       'serviced_flag', 'locationbed', 'estate_price', 'serviced_price',\n",
              "       'terrace_price', 'location_rank'],\n",
              "      dtype='object')"
            ]
          },
          "execution_count": 44,
          "metadata": {},
          "output_type": "execute_result"
        }
      ],
      "source": [
        "train3.columns"
      ]
    },
    {
      "cell_type": "code",
      "execution_count": null,
      "metadata": {
        "id": "tI-ie7wgFEZO",
        "outputId": "7c730113-a653-4a69-d26d-5a64c484c705"
      },
      "outputs": [
        {
          "name": "stdout",
          "output_type": "stream",
          "text": [
            "This is the median for 1 bedroom in gbagada :  560000.0000000001\n",
            "This is the median for 2 bedroom in gbagada :  1060000.0\n",
            "This is the median for 3 bedroom in gbagada :  1840000.0000000005\n",
            "This is the median for 4 bedroom in gbagada :  2300000.0\n",
            "This is the median for 5 bedroom in gbagada :  0\n",
            "This is the median for 1 bedroom in surulere :  660000.0000000001\n",
            "This is the median for 2 bedroom in surulere :  1040000.0000000002\n",
            "This is the median for 3 bedroom in surulere :  1500000.0\n",
            "This is the median for 4 bedroom in surulere :  2500000.0\n",
            "This is the median for 5 bedroom in surulere :  3800000.0\n",
            "This is the median for 1 bedroom in yaba :  600000.0\n",
            "This is the median for 2 bedroom in yaba :  1000000.0\n",
            "This is the median for 3 bedroom in yaba :  1800000.0\n",
            "This is the median for 4 bedroom in yaba :  3000000.0\n",
            "This is the median for 5 bedroom in yaba :  1900000.0\n",
            "This is the median for 1 bedroom in ikorodu :  150000.0\n",
            "This is the median for 2 bedroom in ikorodu :  360000.0\n",
            "This is the median for 3 bedroom in ikorodu :  520000.0000000003\n",
            "This is the median for 4 bedroom in ikorodu :  700000.0\n",
            "This is the median for 5 bedroom in ikorodu :  0\n",
            "This is the median for 1 bedroom in ogba :  500000.0\n",
            "This is the median for 2 bedroom in ogba :  800000.0\n",
            "This is the median for 3 bedroom in ogba :  1200000.0\n",
            "This is the median for 4 bedroom in ogba :  2080000.0000000002\n",
            "This is the median for 5 bedroom in ogba :  2340000.0\n",
            "This is the median for 1 bedroom in iyanaipaja :  170000.0\n",
            "This is the median for 2 bedroom in iyanaipaja :  550000.0\n",
            "This is the median for 3 bedroom in iyanaipaja :  650000.0\n",
            "This is the median for 4 bedroom in iyanaipaja :  1030000.0\n",
            "This is the median for 5 bedroom in iyanaipaja :  0\n",
            "This is the median for 1 bedroom in ikeja :  840000.0000000005\n",
            "This is the median for 2 bedroom in ikeja :  1680000.0000000005\n",
            "This is the median for 3 bedroom in ikeja :  4000000.0\n",
            "This is the median for 4 bedroom in ikeja :  6500000.0\n",
            "This is the median for 5 bedroom in ikeja :  6800000.000000001\n",
            "This is the median for 1 bedroom in ikoyi :  5400000.0\n",
            "This is the median for 2 bedroom in ikoyi :  7900000.0\n",
            "This is the median for 3 bedroom in ikoyi :  8000000.0\n",
            "This is the median for 4 bedroom in ikoyi :  7500000.0\n",
            "This is the median for 5 bedroom in ikoyi :  8000000.0\n",
            "This is the median for 1 bedroom in ajah :  570000.0000000002\n",
            "This is the median for 2 bedroom in ajah :  1000000.0\n",
            "This is the median for 3 bedroom in ajah :  1500000.0\n",
            "This is the median for 4 bedroom in ajah :  2620000.0\n",
            "This is the median for 5 bedroom in ajah :  4500000.000000001\n",
            "This is the median for 1 bedroom in lekki :  1500000.0\n",
            "This is the median for 2 bedroom in lekki :  2500000.0\n",
            "This is the median for 3 bedroom in lekki :  3500000.0\n",
            "This is the median for 4 bedroom in lekki :  4500000.0\n",
            "This is the median for 5 bedroom in lekki :  6500000.0\n"
          ]
        }
      ],
      "source": [
        "#make similar assumptions for new/luxurious/executive houses which were not classified as that\n",
        "new_price = []\n",
        "import numpy as np\n",
        "for location in locations:\n",
        "    for i in range(1,6):\n",
        "        d = {}\n",
        "        d['location'] = location\n",
        "        d['bedspace'] = i\n",
        "        try:\n",
        "            d['estate_price'] = np.percentile(train2['price'][(train2['location']==location)&(train2['bedrooms']==i)&(train2['estate_flag']==0)],50)\n",
        "            d['new_price'] = np.percentile(train2['price'][(train2['location']==location)&(train2['bedrooms']==i)&(train2['estate_flag']==0)],80)\n",
        "        except (IndexError,TypeError) as e:\n",
        "            d['new_price'] = 0\n",
        "            d['estate_price'] = 0\n",
        "        new_price.append(d)\n",
        "        try:\n",
        "            print(\"This is the median for {bed} bedroom in {location} : \".format(bed = i,location = location) ,np.percentile(train2['price'][(train2['location']==location)&(train2['bedrooms']==i)&(train2['estate_flag']==0)],80))\n",
        "        except (IndexError,TypeError) as e:\n",
        "            print(\"This is the median for {bed} bedroom in {location} : \".format(bed = i,location = location) ,0)"
      ]
    },
    {
      "cell_type": "code",
      "execution_count": null,
      "metadata": {
        "id": "DKEwQ0B2FEZQ",
        "outputId": "b358163a-0806-42fb-f0a1-3f58b9018faf"
      },
      "outputs": [
        {
          "data": {
            "text/html": [
              "<div>\n",
              "<style scoped>\n",
              "    .dataframe tbody tr th:only-of-type {\n",
              "        vertical-align: middle;\n",
              "    }\n",
              "\n",
              "    .dataframe tbody tr th {\n",
              "        vertical-align: top;\n",
              "    }\n",
              "\n",
              "    .dataframe thead th {\n",
              "        text-align: right;\n",
              "    }\n",
              "</style>\n",
              "<table border=\"1\" class=\"dataframe\">\n",
              "  <thead>\n",
              "    <tr style=\"text-align: right;\">\n",
              "      <th></th>\n",
              "      <th>new_price</th>\n",
              "      <th>locationbed</th>\n",
              "    </tr>\n",
              "  </thead>\n",
              "  <tbody>\n",
              "    <tr>\n",
              "      <th>0</th>\n",
              "      <td>560000.0</td>\n",
              "      <td>gbagada1</td>\n",
              "    </tr>\n",
              "    <tr>\n",
              "      <th>1</th>\n",
              "      <td>1060000.0</td>\n",
              "      <td>gbagada2</td>\n",
              "    </tr>\n",
              "    <tr>\n",
              "      <th>2</th>\n",
              "      <td>1840000.0</td>\n",
              "      <td>gbagada3</td>\n",
              "    </tr>\n",
              "    <tr>\n",
              "      <th>3</th>\n",
              "      <td>2300000.0</td>\n",
              "      <td>gbagada4</td>\n",
              "    </tr>\n",
              "    <tr>\n",
              "      <th>4</th>\n",
              "      <td>0.0</td>\n",
              "      <td>gbagada5</td>\n",
              "    </tr>\n",
              "    <tr>\n",
              "      <th>5</th>\n",
              "      <td>660000.0</td>\n",
              "      <td>surulere1</td>\n",
              "    </tr>\n",
              "    <tr>\n",
              "      <th>6</th>\n",
              "      <td>1040000.0</td>\n",
              "      <td>surulere2</td>\n",
              "    </tr>\n",
              "    <tr>\n",
              "      <th>7</th>\n",
              "      <td>1500000.0</td>\n",
              "      <td>surulere3</td>\n",
              "    </tr>\n",
              "    <tr>\n",
              "      <th>8</th>\n",
              "      <td>2500000.0</td>\n",
              "      <td>surulere4</td>\n",
              "    </tr>\n",
              "    <tr>\n",
              "      <th>9</th>\n",
              "      <td>3800000.0</td>\n",
              "      <td>surulere5</td>\n",
              "    </tr>\n",
              "    <tr>\n",
              "      <th>10</th>\n",
              "      <td>600000.0</td>\n",
              "      <td>yaba1</td>\n",
              "    </tr>\n",
              "    <tr>\n",
              "      <th>11</th>\n",
              "      <td>1000000.0</td>\n",
              "      <td>yaba2</td>\n",
              "    </tr>\n",
              "    <tr>\n",
              "      <th>12</th>\n",
              "      <td>1800000.0</td>\n",
              "      <td>yaba3</td>\n",
              "    </tr>\n",
              "    <tr>\n",
              "      <th>13</th>\n",
              "      <td>3000000.0</td>\n",
              "      <td>yaba4</td>\n",
              "    </tr>\n",
              "    <tr>\n",
              "      <th>14</th>\n",
              "      <td>1900000.0</td>\n",
              "      <td>yaba5</td>\n",
              "    </tr>\n",
              "    <tr>\n",
              "      <th>15</th>\n",
              "      <td>150000.0</td>\n",
              "      <td>ikorodu1</td>\n",
              "    </tr>\n",
              "    <tr>\n",
              "      <th>16</th>\n",
              "      <td>360000.0</td>\n",
              "      <td>ikorodu2</td>\n",
              "    </tr>\n",
              "    <tr>\n",
              "      <th>17</th>\n",
              "      <td>520000.0</td>\n",
              "      <td>ikorodu3</td>\n",
              "    </tr>\n",
              "    <tr>\n",
              "      <th>18</th>\n",
              "      <td>700000.0</td>\n",
              "      <td>ikorodu4</td>\n",
              "    </tr>\n",
              "    <tr>\n",
              "      <th>19</th>\n",
              "      <td>0.0</td>\n",
              "      <td>ikorodu5</td>\n",
              "    </tr>\n",
              "    <tr>\n",
              "      <th>20</th>\n",
              "      <td>500000.0</td>\n",
              "      <td>ogba1</td>\n",
              "    </tr>\n",
              "    <tr>\n",
              "      <th>21</th>\n",
              "      <td>800000.0</td>\n",
              "      <td>ogba2</td>\n",
              "    </tr>\n",
              "    <tr>\n",
              "      <th>22</th>\n",
              "      <td>1200000.0</td>\n",
              "      <td>ogba3</td>\n",
              "    </tr>\n",
              "    <tr>\n",
              "      <th>23</th>\n",
              "      <td>2080000.0</td>\n",
              "      <td>ogba4</td>\n",
              "    </tr>\n",
              "    <tr>\n",
              "      <th>24</th>\n",
              "      <td>2340000.0</td>\n",
              "      <td>ogba5</td>\n",
              "    </tr>\n",
              "    <tr>\n",
              "      <th>25</th>\n",
              "      <td>170000.0</td>\n",
              "      <td>iyanaipaja1</td>\n",
              "    </tr>\n",
              "    <tr>\n",
              "      <th>26</th>\n",
              "      <td>550000.0</td>\n",
              "      <td>iyanaipaja2</td>\n",
              "    </tr>\n",
              "    <tr>\n",
              "      <th>27</th>\n",
              "      <td>650000.0</td>\n",
              "      <td>iyanaipaja3</td>\n",
              "    </tr>\n",
              "    <tr>\n",
              "      <th>28</th>\n",
              "      <td>1030000.0</td>\n",
              "      <td>iyanaipaja4</td>\n",
              "    </tr>\n",
              "    <tr>\n",
              "      <th>29</th>\n",
              "      <td>0.0</td>\n",
              "      <td>iyanaipaja5</td>\n",
              "    </tr>\n",
              "    <tr>\n",
              "      <th>30</th>\n",
              "      <td>840000.0</td>\n",
              "      <td>ikeja1</td>\n",
              "    </tr>\n",
              "    <tr>\n",
              "      <th>31</th>\n",
              "      <td>1680000.0</td>\n",
              "      <td>ikeja2</td>\n",
              "    </tr>\n",
              "    <tr>\n",
              "      <th>32</th>\n",
              "      <td>4000000.0</td>\n",
              "      <td>ikeja3</td>\n",
              "    </tr>\n",
              "    <tr>\n",
              "      <th>33</th>\n",
              "      <td>6500000.0</td>\n",
              "      <td>ikeja4</td>\n",
              "    </tr>\n",
              "    <tr>\n",
              "      <th>34</th>\n",
              "      <td>6800000.0</td>\n",
              "      <td>ikeja5</td>\n",
              "    </tr>\n",
              "    <tr>\n",
              "      <th>35</th>\n",
              "      <td>5400000.0</td>\n",
              "      <td>ikoyi1</td>\n",
              "    </tr>\n",
              "    <tr>\n",
              "      <th>36</th>\n",
              "      <td>7900000.0</td>\n",
              "      <td>ikoyi2</td>\n",
              "    </tr>\n",
              "    <tr>\n",
              "      <th>37</th>\n",
              "      <td>8000000.0</td>\n",
              "      <td>ikoyi3</td>\n",
              "    </tr>\n",
              "    <tr>\n",
              "      <th>38</th>\n",
              "      <td>7500000.0</td>\n",
              "      <td>ikoyi4</td>\n",
              "    </tr>\n",
              "    <tr>\n",
              "      <th>39</th>\n",
              "      <td>8000000.0</td>\n",
              "      <td>ikoyi5</td>\n",
              "    </tr>\n",
              "    <tr>\n",
              "      <th>40</th>\n",
              "      <td>570000.0</td>\n",
              "      <td>ajah1</td>\n",
              "    </tr>\n",
              "    <tr>\n",
              "      <th>41</th>\n",
              "      <td>1000000.0</td>\n",
              "      <td>ajah2</td>\n",
              "    </tr>\n",
              "    <tr>\n",
              "      <th>42</th>\n",
              "      <td>1500000.0</td>\n",
              "      <td>ajah3</td>\n",
              "    </tr>\n",
              "    <tr>\n",
              "      <th>43</th>\n",
              "      <td>2620000.0</td>\n",
              "      <td>ajah4</td>\n",
              "    </tr>\n",
              "    <tr>\n",
              "      <th>44</th>\n",
              "      <td>4500000.0</td>\n",
              "      <td>ajah5</td>\n",
              "    </tr>\n",
              "    <tr>\n",
              "      <th>45</th>\n",
              "      <td>1500000.0</td>\n",
              "      <td>lekki1</td>\n",
              "    </tr>\n",
              "    <tr>\n",
              "      <th>46</th>\n",
              "      <td>2500000.0</td>\n",
              "      <td>lekki2</td>\n",
              "    </tr>\n",
              "    <tr>\n",
              "      <th>47</th>\n",
              "      <td>3500000.0</td>\n",
              "      <td>lekki3</td>\n",
              "    </tr>\n",
              "    <tr>\n",
              "      <th>48</th>\n",
              "      <td>4500000.0</td>\n",
              "      <td>lekki4</td>\n",
              "    </tr>\n",
              "    <tr>\n",
              "      <th>49</th>\n",
              "      <td>6500000.0</td>\n",
              "      <td>lekki5</td>\n",
              "    </tr>\n",
              "  </tbody>\n",
              "</table>\n",
              "</div>"
            ],
            "text/plain": [
              "    new_price  locationbed\n",
              "0    560000.0     gbagada1\n",
              "1   1060000.0     gbagada2\n",
              "2   1840000.0     gbagada3\n",
              "3   2300000.0     gbagada4\n",
              "4         0.0     gbagada5\n",
              "5    660000.0    surulere1\n",
              "6   1040000.0    surulere2\n",
              "7   1500000.0    surulere3\n",
              "8   2500000.0    surulere4\n",
              "9   3800000.0    surulere5\n",
              "10   600000.0        yaba1\n",
              "11  1000000.0        yaba2\n",
              "12  1800000.0        yaba3\n",
              "13  3000000.0        yaba4\n",
              "14  1900000.0        yaba5\n",
              "15   150000.0     ikorodu1\n",
              "16   360000.0     ikorodu2\n",
              "17   520000.0     ikorodu3\n",
              "18   700000.0     ikorodu4\n",
              "19        0.0     ikorodu5\n",
              "20   500000.0        ogba1\n",
              "21   800000.0        ogba2\n",
              "22  1200000.0        ogba3\n",
              "23  2080000.0        ogba4\n",
              "24  2340000.0        ogba5\n",
              "25   170000.0  iyanaipaja1\n",
              "26   550000.0  iyanaipaja2\n",
              "27   650000.0  iyanaipaja3\n",
              "28  1030000.0  iyanaipaja4\n",
              "29        0.0  iyanaipaja5\n",
              "30   840000.0       ikeja1\n",
              "31  1680000.0       ikeja2\n",
              "32  4000000.0       ikeja3\n",
              "33  6500000.0       ikeja4\n",
              "34  6800000.0       ikeja5\n",
              "35  5400000.0       ikoyi1\n",
              "36  7900000.0       ikoyi2\n",
              "37  8000000.0       ikoyi3\n",
              "38  7500000.0       ikoyi4\n",
              "39  8000000.0       ikoyi5\n",
              "40   570000.0        ajah1\n",
              "41  1000000.0        ajah2\n",
              "42  1500000.0        ajah3\n",
              "43  2620000.0        ajah4\n",
              "44  4500000.0        ajah5\n",
              "45  1500000.0       lekki1\n",
              "46  2500000.0       lekki2\n",
              "47  3500000.0       lekki3\n",
              "48  4500000.0       lekki4\n",
              "49  6500000.0       lekki5"
            ]
          },
          "execution_count": 46,
          "metadata": {},
          "output_type": "execute_result"
        }
      ],
      "source": [
        "new_price = pd.DataFrame(new_price)\n",
        "new_price['locationbed'] = new_price['location'] + new_price['bedspace'].astype(str)\n",
        "new_price = new_price.drop([\"estate_price\",\"location\",\"bedspace\"],axis=1)\n",
        "new_price"
      ]
    },
    {
      "cell_type": "code",
      "execution_count": null,
      "metadata": {
        "id": "0pvd5iFiFEZR"
      },
      "outputs": [],
      "source": [
        "#train2['locationbed']  = train2 ['location'] + train2 ['bedrooms'].astype(str)\n",
        "train3 = pd.merge(train3,new_price, on =\"locationbed\", how = \"left\")"
      ]
    },
    {
      "cell_type": "code",
      "execution_count": null,
      "metadata": {
        "id": "Q_0NsjcjFEZS",
        "outputId": "8f3205e9-41c5-46bc-b254-59483fbf1b36"
      },
      "outputs": [
        {
          "data": {
            "text/plain": [
              "(4488, 17)"
            ]
          },
          "execution_count": 48,
          "metadata": {},
          "output_type": "execute_result"
        }
      ],
      "source": [
        "train3.shape"
      ]
    },
    {
      "cell_type": "code",
      "execution_count": null,
      "metadata": {
        "id": "q0nms-JOFEZT"
      },
      "outputs": [],
      "source": [
        "#assign houses to new/luxurious/executive based on price\n",
        "train3['new_flag'][(train3['bedrooms']==1)&(train3['price'] > train3['new_price'])] = 1\n",
        "train3['new_flag'][(train3['bedrooms']==2)&(train3['price'] > train3['new_price'])] = 1\n",
        "train3['new_flag'][(train3['bedrooms']==3)&(train3['price'] > train3['new_price'])] = 1\n",
        "train3['new_flag'][(train3['bedrooms']==4)&(train3['price'] > train3['new_price'])] = 1\n",
        "train3['new_flag'][(train3['bedrooms']==5)&(train3['price'] > train3['new_price'])] = 1"
      ]
    },
    {
      "cell_type": "code",
      "execution_count": null,
      "metadata": {
        "id": "jxiQEVUlFEZU",
        "outputId": "e011f475-1a3a-464a-d47b-322c60a5e38c"
      },
      "outputs": [
        {
          "data": {
            "text/plain": [
              "<matplotlib.axes._subplots.AxesSubplot at 0x189a23220f0>"
            ]
          },
          "execution_count": 50,
          "metadata": {},
          "output_type": "execute_result"
        },
        {
          "data": {
            "image/png": "[encoded data removed]",
            "text/plain": [
              "<Figure size 432x288 with 1 Axes>"
            ]
          },
          "metadata": {
            "needs_background": "light"
          },
          "output_type": "display_data"
        }
      ],
      "source": [
        "#Conduct additional inspoection for each location and type of house\n",
        "import matplotlib.pyplot as plt\n",
        "train2['price'][(train2['location']==\"gbagada\")&(train2['bedrooms']==1)].plot(\"hist\")"
      ]
    },
    {
      "cell_type": "code",
      "execution_count": null,
      "metadata": {
        "id": "QXlY0M1lFEZV",
        "outputId": "aa7ad8e3-7d1f-4958-a9bc-bba21da2917c"
      },
      "outputs": [
        {
          "data": {
            "text/plain": [
              "<matplotlib.axes._subplots.AxesSubplot at 0x189a2989748>"
            ]
          },
          "execution_count": 51,
          "metadata": {},
          "output_type": "execute_result"
        },
        {
          "data": {
            "image/png": "[encoded data removed]",
            "text/plain": [
              "<Figure size 432x288 with 1 Axes>"
            ]
          },
          "metadata": {
            "needs_background": "light"
          },
          "output_type": "display_data"
        }
      ],
      "source": [
        "import matplotlib.pyplot as plt\n",
        "train2['price'][(train2['location']==\"yaba\")&(train2['bedrooms']==1)].plot(\"hist\")"
      ]
    },
    {
      "cell_type": "code",
      "execution_count": null,
      "metadata": {
        "id": "rEOcfbGDFEZW",
        "outputId": "67fde8fa-3d67-4284-d45c-19435738f72e"
      },
      "outputs": [
        {
          "data": {
            "text/plain": [
              "<matplotlib.axes._subplots.AxesSubplot at 0x189a29df198>"
            ]
          },
          "execution_count": 52,
          "metadata": {},
          "output_type": "execute_result"
        },
        {
          "data": {
            "image/png": "[encoded data removed]",
            "text/plain": [
              "<Figure size 432x288 with 1 Axes>"
            ]
          },
          "metadata": {
            "needs_background": "light"
          },
          "output_type": "display_data"
        }
      ],
      "source": [
        "import matplotlib.pyplot as plt\n",
        "train2['price'][(train2['location']==\"surulere\")&(train2['bedrooms']==2)].plot(\"hist\")"
      ]
    },
    {
      "cell_type": "code",
      "execution_count": null,
      "metadata": {
        "id": "nml-KKR9FEZX",
        "outputId": "aff0fdac-a743-4488-bbc9-26e92b33892f"
      },
      "outputs": [
        {
          "data": {
            "text/plain": [
              "<matplotlib.axes._subplots.AxesSubplot at 0x189a2a77c88>"
            ]
          },
          "execution_count": 53,
          "metadata": {},
          "output_type": "execute_result"
        },
        {
          "data": {
            "image/png": "[encoded data removed]",
            "text/plain": [
              "<Figure size 432x288 with 1 Axes>"
            ]
          },
          "metadata": {
            "needs_background": "light"
          },
          "output_type": "display_data"
        }
      ],
      "source": [
        "import matplotlib.pyplot as plt\n",
        "train2['price'][(train2['location']==\"gbagada\")&(train2['bedrooms']==2)].plot(\"hist\")"
      ]
    },
    {
      "cell_type": "code",
      "execution_count": null,
      "metadata": {
        "id": "IL3CHcfrFEZY",
        "outputId": "be82bc52-eacd-4dc7-df06-c22bf29952cd"
      },
      "outputs": [
        {
          "data": {
            "text/plain": [
              "<matplotlib.axes._subplots.AxesSubplot at 0x189a2af62b0>"
            ]
          },
          "execution_count": 54,
          "metadata": {},
          "output_type": "execute_result"
        },
        {
          "data": {
            "image/png": "[encoded data removed]",
            "text/plain": [
              "<Figure size 432x288 with 1 Axes>"
            ]
          },
          "metadata": {
            "needs_background": "light"
          },
          "output_type": "display_data"
        }
      ],
      "source": [
        "import matplotlib.pyplot as plt\n",
        "train2['price'][(train2['location']==\"yaba\")&(train2['bedrooms']==2)].plot(\"hist\")"
      ]
    },
    {
      "cell_type": "code",
      "execution_count": null,
      "metadata": {
        "id": "ce78F_IoFEZY",
        "outputId": "be6c29a9-fc57-4f22-eff7-d0194b9a53d3"
      },
      "outputs": [
        {
          "data": {
            "text/plain": [
              "<matplotlib.axes._subplots.AxesSubplot at 0x189a2b6a400>"
            ]
          },
          "execution_count": 55,
          "metadata": {},
          "output_type": "execute_result"
        },
        {
          "data": {
            "image/png": "[encoded data removed]",
            "text/plain": [
              "<Figure size 432x288 with 1 Axes>"
            ]
          },
          "metadata": {
            "needs_background": "light"
          },
          "output_type": "display_data"
        }
      ],
      "source": [
        "import matplotlib.pyplot as plt\n",
        "train2['price'][(train2['location']==\"surulere\")&(train2['bedrooms']==3)].plot(\"hist\")"
      ]
    },
    {
      "cell_type": "code",
      "execution_count": null,
      "metadata": {
        "id": "hjFRteVTFEZZ",
        "outputId": "0bc8a522-00f9-41b6-fcd5-351368bc24b5"
      },
      "outputs": [
        {
          "data": {
            "text/plain": [
              "<matplotlib.axes._subplots.AxesSubplot at 0x189a2af6f98>"
            ]
          },
          "execution_count": 56,
          "metadata": {},
          "output_type": "execute_result"
        },
        {
          "data": {
            "image/png": "[encoded data removed]",
            "text/plain": [
              "<Figure size 432x288 with 1 Axes>"
            ]
          },
          "metadata": {
            "needs_background": "light"
          },
          "output_type": "display_data"
        }
      ],
      "source": [
        "import matplotlib.pyplot as plt\n",
        "train2['price'][(train2['location']==\"gbagada\")&(train2['bedrooms']==3)].plot(\"hist\")"
      ]
    },
    {
      "cell_type": "code",
      "execution_count": null,
      "metadata": {
        "id": "L0YNoEUuFEZa",
        "outputId": "65d0606d-9a90-48e8-947e-2db1d52a3004"
      },
      "outputs": [
        {
          "data": {
            "text/plain": [
              "<matplotlib.axes._subplots.AxesSubplot at 0x189a2c4ac18>"
            ]
          },
          "execution_count": 57,
          "metadata": {},
          "output_type": "execute_result"
        },
        {
          "data": {
            "image/png": "[encoded data removed]",
            "text/plain": [
              "<Figure size 432x288 with 1 Axes>"
            ]
          },
          "metadata": {
            "needs_background": "light"
          },
          "output_type": "display_data"
        }
      ],
      "source": [
        "import matplotlib.pyplot as plt\n",
        "train2['price'][(train2['location']==\"yaba\")&(train2['bedrooms']==3)].plot(\"hist\")"
      ]
    },
    {
      "cell_type": "code",
      "execution_count": null,
      "metadata": {
        "id": "nZL8wo1iFEZb"
      },
      "outputs": [],
      "source": [
        "#The distribution has a wide variation. It is possible type of area also determines price. We can make a feature for thsi\n",
        "#create a feature that determines type of area a house is in based on price. 1 being lowest and 4 being highest type of area\n",
        "train3['exec_flag']=1\n",
        "\n",
        "for i in range(0,len(locations)):\n",
        "    \n",
        "    train3['exec_flag'][(train3['bedrooms']==3)&(train3['location']==locations[i]) & (train3['price']>= np.percentile(train3['price'],35))]= 2\n",
        "    train3['exec_flag'][(train3['bedrooms']==3)&(train3['location']==locations[i]) & (train3['price']>= np.percentile(train3['price'],65))]= 3\n",
        "    train3['exec_flag'][(train3['bedrooms']==3)&(train3['location']==locations[i]) & (train3['price']>= np.percentile(train3['price'],80))]= 4"
      ]
    },
    {
      "cell_type": "code",
      "execution_count": null,
      "metadata": {
        "id": "1d3pmBbiFEZc"
      },
      "outputs": [],
      "source": [
        "for i in range(0,len(locations)):\n",
        "    train3['exec_flag'][(train3['bedrooms']==2)&(train3['location']==locations[i]) & (train3['price']>= np.percentile(train3['price'],35))]= 2\n",
        "    train3['exec_flag'][(train3['bedrooms']==2)&(train3['location']==locations[i]) & (train3['price']>= np.percentile(train3['price'],65))]= 3\n",
        "    train3['exec_flag'][(train3['bedrooms']==2)&(train3['location']==locations[i]) & (train3['price']>= np.percentile(train3['price'],80))]= 4"
      ]
    },
    {
      "cell_type": "code",
      "execution_count": null,
      "metadata": {
        "id": "TzPn5eogFEZd"
      },
      "outputs": [],
      "source": [
        "for i in range(0,len(locations)):\n",
        "    train3['exec_flag'][(train3['bedrooms']==1)&(train3['location']==locations[i]) & (train3['price']>= np.percentile(train3['price'],35))]= 2\n",
        "    train3['exec_flag'][(train3['bedrooms']==1)&(train3['location']==locations[i]) & (train3['price']>= np.percentile(train3['price'],65))]= 3\n",
        "    train3['exec_flag'][(train3['bedrooms']==1)&(train3['location']==locations[i]) & (train3['price']>= np.percentile(train3['price'],80))]= 4"
      ]
    },
    {
      "cell_type": "code",
      "execution_count": null,
      "metadata": {
        "id": "A4akA8N2FEZd"
      },
      "outputs": [],
      "source": [
        "for i in range(0,len(locations)):\n",
        "    train3['exec_flag'][(train3['bedrooms']==4)&(train3['location']==locations[i]) & (train3['price']>= np.percentile(train3['price'],35))]= 2\n",
        "    train3['exec_flag'][(train3['bedrooms']==4)&(train3['location']==locations[i]) & (train3['price']>= np.percentile(train3['price'],65))]= 3\n",
        "    train3['exec_flag'][(train3['bedrooms']==4)&(train3['location']==locations[i]) & (train3['price']>= np.percentile(train3['price'],80))]= 4"
      ]
    },
    {
      "cell_type": "code",
      "execution_count": null,
      "metadata": {
        "id": "1BLlr3g8FEZe"
      },
      "outputs": [],
      "source": [
        "for i in range(0,len(locations)):\n",
        "    train3['exec_flag'][(train3['bedrooms']==5)&(train3['location']==locations[i]) & (train3['price']>= np.percentile(train3['price'],35))]= 2\n",
        "    train3['exec_flag'][(train3['bedrooms']==5)&(train3['location']==locations[i]) & (train3['price']>= np.percentile(train3['price'],65))]= 3\n",
        "    train3['exec_flag'][(train3['bedrooms']==5)&(train3['location']==locations[i]) & (train3['price']>= np.percentile(train3['price'],80))]= 4"
      ]
    },
    {
      "cell_type": "code",
      "execution_count": null,
      "metadata": {
        "id": "xSKc8o2MFEZf"
      },
      "outputs": [],
      "source": [
        "#72%\n",
        "X = train3[['bedrooms','bathrooms', 'toilets', 'estate_flag','location_rank', 'terrace_flag', 'new_flag','exec_flag' ,'serviced_flag']]\n",
        "y = train3['price']"
      ]
    },
    {
      "cell_type": "code",
      "execution_count": null,
      "metadata": {
        "id": "KZJWnh-oFEZf"
      },
      "outputs": [],
      "source": [
        "from sklearn.model_selection import train_test_split\n",
        "from sklearn.model_selection import KFold\n",
        "\n",
        "x_train, x_cv, y_train, y_cv = train_test_split(X,y, test_size =0.2,random_state = 2)"
      ]
    },
    {
      "cell_type": "code",
      "execution_count": null,
      "metadata": {
        "id": "dA6h73tQFEZg"
      },
      "outputs": [],
      "source": [
        "from sklearn.metrics import accuracy_score\n",
        "from sklearn.metrics import mean_squared_error\n",
        "from sklearn.metrics import roc_curve,auc\n",
        "from sklearn.metrics import r2_score\n",
        "from math import sqrt"
      ]
    },
    {
      "cell_type": "code",
      "execution_count": null,
      "metadata": {
        "id": "glz35ZfdFEZh",
        "outputId": "064a0566-b378-40b6-8df0-e715cf9f2c18"
      },
      "outputs": [
        {
          "data": {
            "text/plain": [
              "RandomForestRegressor(bootstrap=True, criterion='mse', max_depth=11,\n",
              "           max_features='auto', max_leaf_nodes=None,\n",
              "           min_impurity_decrease=0.0, min_impurity_split=None,\n",
              "           min_samples_leaf=1, min_samples_split=2,\n",
              "           min_weight_fraction_leaf=0.0, n_estimators=1400, n_jobs=None,\n",
              "           oob_score=False, random_state=1, verbose=0, warm_start=False)"
            ]
          },
          "execution_count": 66,
          "metadata": {},
          "output_type": "execute_result"
        }
      ],
      "source": [
        "from sklearn.ensemble import RandomForestRegressor\n",
        "model1 = RandomForestRegressor(random_state=1, max_depth=11,n_estimators= 1400)\n",
        "model1.fit(x_train,y_train)"
      ]
    },
    {
      "cell_type": "code",
      "execution_count": null,
      "metadata": {
        "id": "_G5aP2jzFEZi",
        "outputId": "034b2ca6-1a72-4789-9f51-01bdffd22cb7"
      },
      "outputs": [
        {
          "name": "stdout",
          "output_type": "stream",
          "text": [
            "mean_squared_error 494287.3194985091\n"
          ]
        }
      ],
      "source": [
        "pred_cv = model1.predict(x_cv)\n",
        "score = sqrt(mean_squared_error(y_cv,pred_cv))\n",
        "print('mean_squared_error',score)"
      ]
    },
    {
      "cell_type": "code",
      "execution_count": null,
      "metadata": {
        "id": "FB5fo9DwFEZi"
      },
      "outputs": [],
      "source": [
        "from sklearn.externals import joblib\n",
        "joblib.dump(model1, 'modelrf.pkl')\n",
        "modelza= joblib.load('modelrf.pkl')"
      ]
    },
    {
      "cell_type": "code",
      "execution_count": null,
      "metadata": {
        "id": "rqgEcG9RFEZj"
      },
      "outputs": [],
      "source": [
        "train3.to_csv(\"clean_data.csv\",index = False)"
      ]
    }
  ],
  "metadata": {
    "kernelspec": {
      "display_name": "Python 3",
      "language": "python",
      "name": "python3"
    },
    "language_info": {
      "codemirror_mode": {
        "name": "ipython",
        "version": 3
      },
      "file_extension": ".py",
      "mimetype": "text/x-python",
      "name": "python",
      "nbconvert_exporter": "python",
      "pygments_lexer": "ipython3",
      "version": "3.7.1"
    },
    "colab": {
      "name": "Property ML-for participants- for scraped data.ipynb",
      "provenance": [],
      "include_colab_link": true
    }
  },
  "nbformat": 4,
  "nbformat_minor": 0
}